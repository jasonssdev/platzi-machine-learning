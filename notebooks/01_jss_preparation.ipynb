{
 "cells": [
  {
   "cell_type": "code",
   "execution_count": 1,
   "id": "9e6b85fc",
   "metadata": {},
   "outputs": [],
   "source": [
    "import pandas as pd\n",
    "from pathlib import Path\n",
    "from utils.paths import DATA_RAW_DIR"
   ]
  },
  {
   "cell_type": "code",
   "execution_count": 2,
   "id": "a2a2a084",
   "metadata": {},
   "outputs": [
    {
     "name": "stdout",
     "output_type": "stream",
     "text": [
      "Path: /Users/jssdev/Dev/Learning/Platzi/platzi-machine-learning/data/raw/partidos_cebollitas.csv\n",
      "Does path exist? True\n"
     ]
    }
   ],
   "source": [
    "path_partidos = str(DATA_RAW_DIR / 'partidos_cebollitas.csv')\n",
    "\n",
    "print('Path:', path_partidos)\n",
    "print('Does path exist?', Path(path_partidos).exists())"
   ]
  },
  {
   "cell_type": "code",
   "execution_count": 3,
   "id": "3ab40e3c",
   "metadata": {},
   "outputs": [
    {
     "data": {
      "application/vnd.microsoft.datawrangler.viewer.v0+json": {
       "columns": [
        {
         "name": "index",
         "rawType": "int64",
         "type": "integer"
        },
        {
         "name": "fecha_partido",
         "rawType": "object",
         "type": "string"
        },
        {
         "name": "equipo_local",
         "rawType": "object",
         "type": "string"
        },
        {
         "name": "equipo_visitante",
         "rawType": "object",
         "type": "string"
        },
        {
         "name": "goles_local",
         "rawType": "int64",
         "type": "integer"
        },
        {
         "name": "goles_visitante",
         "rawType": "int64",
         "type": "integer"
        },
        {
         "name": "posesion_local (%)",
         "rawType": "int64",
         "type": "integer"
        },
        {
         "name": "posesion_visitante (%)",
         "rawType": "int64",
         "type": "integer"
        },
        {
         "name": "tiros_arco_local",
         "rawType": "int64",
         "type": "integer"
        },
        {
         "name": "tiros_arco_visitante",
         "rawType": "int64",
         "type": "integer"
        },
        {
         "name": "estadio",
         "rawType": "object",
         "type": "string"
        }
       ],
       "ref": "14fb2a15-3df1-4af3-a76e-94279660d1f8",
       "rows": [
        [
         "0",
         "2023-01-01",
         "Atlético Python",
         "Cebollitas FC",
         "2",
         "0",
         "54",
         "46",
         "12",
         "6",
         "Python Arena"
        ],
        [
         "1",
         "2023-01-08",
         "NumPy City",
         "Atlético Python",
         "1",
         "5",
         "60",
         "40",
         "12",
         "3",
         "Estadio ML"
        ],
        [
         "2",
         "2023-01-15",
         "Cebollitas FC",
         "Data United",
         "1",
         "0",
         "55",
         "45",
         "10",
         "7",
         "Python Arena"
        ],
        [
         "3",
         "2023-01-22",
         "Atlético Python",
         "Data United",
         "2",
         "3",
         "57",
         "43",
         "3",
         "3",
         "Campo Pandas"
        ],
        [
         "4",
         "2023-01-29",
         "Data United",
         "Cebollitas FC",
         "5",
         "3",
         "52",
         "48",
         "7",
         "12",
         "Estadio ML"
        ]
       ],
       "shape": {
        "columns": 10,
        "rows": 5
       }
      },
      "text/html": [
       "<div>\n",
       "<style scoped>\n",
       "    .dataframe tbody tr th:only-of-type {\n",
       "        vertical-align: middle;\n",
       "    }\n",
       "\n",
       "    .dataframe tbody tr th {\n",
       "        vertical-align: top;\n",
       "    }\n",
       "\n",
       "    .dataframe thead th {\n",
       "        text-align: right;\n",
       "    }\n",
       "</style>\n",
       "<table border=\"1\" class=\"dataframe\">\n",
       "  <thead>\n",
       "    <tr style=\"text-align: right;\">\n",
       "      <th></th>\n",
       "      <th>fecha_partido</th>\n",
       "      <th>equipo_local</th>\n",
       "      <th>equipo_visitante</th>\n",
       "      <th>goles_local</th>\n",
       "      <th>goles_visitante</th>\n",
       "      <th>posesion_local (%)</th>\n",
       "      <th>posesion_visitante (%)</th>\n",
       "      <th>tiros_arco_local</th>\n",
       "      <th>tiros_arco_visitante</th>\n",
       "      <th>estadio</th>\n",
       "    </tr>\n",
       "  </thead>\n",
       "  <tbody>\n",
       "    <tr>\n",
       "      <th>0</th>\n",
       "      <td>2023-01-01</td>\n",
       "      <td>Atlético Python</td>\n",
       "      <td>Cebollitas FC</td>\n",
       "      <td>2</td>\n",
       "      <td>0</td>\n",
       "      <td>54</td>\n",
       "      <td>46</td>\n",
       "      <td>12</td>\n",
       "      <td>6</td>\n",
       "      <td>Python Arena</td>\n",
       "    </tr>\n",
       "    <tr>\n",
       "      <th>1</th>\n",
       "      <td>2023-01-08</td>\n",
       "      <td>NumPy City</td>\n",
       "      <td>Atlético Python</td>\n",
       "      <td>1</td>\n",
       "      <td>5</td>\n",
       "      <td>60</td>\n",
       "      <td>40</td>\n",
       "      <td>12</td>\n",
       "      <td>3</td>\n",
       "      <td>Estadio ML</td>\n",
       "    </tr>\n",
       "    <tr>\n",
       "      <th>2</th>\n",
       "      <td>2023-01-15</td>\n",
       "      <td>Cebollitas FC</td>\n",
       "      <td>Data United</td>\n",
       "      <td>1</td>\n",
       "      <td>0</td>\n",
       "      <td>55</td>\n",
       "      <td>45</td>\n",
       "      <td>10</td>\n",
       "      <td>7</td>\n",
       "      <td>Python Arena</td>\n",
       "    </tr>\n",
       "    <tr>\n",
       "      <th>3</th>\n",
       "      <td>2023-01-22</td>\n",
       "      <td>Atlético Python</td>\n",
       "      <td>Data United</td>\n",
       "      <td>2</td>\n",
       "      <td>3</td>\n",
       "      <td>57</td>\n",
       "      <td>43</td>\n",
       "      <td>3</td>\n",
       "      <td>3</td>\n",
       "      <td>Campo Pandas</td>\n",
       "    </tr>\n",
       "    <tr>\n",
       "      <th>4</th>\n",
       "      <td>2023-01-29</td>\n",
       "      <td>Data United</td>\n",
       "      <td>Cebollitas FC</td>\n",
       "      <td>5</td>\n",
       "      <td>3</td>\n",
       "      <td>52</td>\n",
       "      <td>48</td>\n",
       "      <td>7</td>\n",
       "      <td>12</td>\n",
       "      <td>Estadio ML</td>\n",
       "    </tr>\n",
       "  </tbody>\n",
       "</table>\n",
       "</div>"
      ],
      "text/plain": [
       "  fecha_partido     equipo_local equipo_visitante  goles_local  \\\n",
       "0    2023-01-01  Atlético Python    Cebollitas FC            2   \n",
       "1    2023-01-08       NumPy City  Atlético Python            1   \n",
       "2    2023-01-15    Cebollitas FC      Data United            1   \n",
       "3    2023-01-22  Atlético Python      Data United            2   \n",
       "4    2023-01-29      Data United    Cebollitas FC            5   \n",
       "\n",
       "   goles_visitante  posesion_local (%)  posesion_visitante (%)  \\\n",
       "0                0                  54                      46   \n",
       "1                5                  60                      40   \n",
       "2                0                  55                      45   \n",
       "3                3                  57                      43   \n",
       "4                3                  52                      48   \n",
       "\n",
       "   tiros_arco_local  tiros_arco_visitante       estadio  \n",
       "0                12                     6  Python Arena  \n",
       "1                12                     3    Estadio ML  \n",
       "2                10                     7  Python Arena  \n",
       "3                 3                     3  Campo Pandas  \n",
       "4                 7                    12    Estadio ML  "
      ]
     },
     "execution_count": 3,
     "metadata": {},
     "output_type": "execute_result"
    }
   ],
   "source": [
    "df_partidos = pd.read_csv(path_partidos, sep=',', encoding='utf-8')\n",
    "df_partidos.head()"
   ]
  },
  {
   "cell_type": "code",
   "execution_count": 4,
   "id": "071a11e0",
   "metadata": {},
   "outputs": [
    {
     "name": "stdout",
     "output_type": "stream",
     "text": [
      "<class 'pandas.core.frame.DataFrame'>\n",
      "RangeIndex: 100 entries, 0 to 99\n",
      "Data columns (total 10 columns):\n",
      " #   Column                  Non-Null Count  Dtype \n",
      "---  ------                  --------------  ----- \n",
      " 0   fecha_partido           100 non-null    object\n",
      " 1   equipo_local            100 non-null    object\n",
      " 2   equipo_visitante        100 non-null    object\n",
      " 3   goles_local             100 non-null    int64 \n",
      " 4   goles_visitante         100 non-null    int64 \n",
      " 5   posesion_local (%)      100 non-null    int64 \n",
      " 6   posesion_visitante (%)  100 non-null    int64 \n",
      " 7   tiros_arco_local        100 non-null    int64 \n",
      " 8   tiros_arco_visitante    100 non-null    int64 \n",
      " 9   estadio                 100 non-null    object\n",
      "dtypes: int64(6), object(4)\n",
      "memory usage: 7.9+ KB\n"
     ]
    }
   ],
   "source": [
    "df_partidos.info()"
   ]
  },
  {
   "cell_type": "code",
   "execution_count": 5,
   "id": "268fda84",
   "metadata": {},
   "outputs": [
    {
     "data": {
      "text/plain": [
       "np.int64(0)"
      ]
     },
     "execution_count": 5,
     "metadata": {},
     "output_type": "execute_result"
    }
   ],
   "source": [
    "df_partidos['goles_local'].isna().sum()"
   ]
  },
  {
   "cell_type": "code",
   "execution_count": 6,
   "id": "737363a1",
   "metadata": {},
   "outputs": [
    {
     "data": {
      "application/vnd.microsoft.datawrangler.viewer.v0+json": {
       "columns": [
        {
         "name": "index",
         "rawType": "object",
         "type": "string"
        },
        {
         "name": "0",
         "rawType": "int64",
         "type": "integer"
        }
       ],
       "ref": "026d3cc7-5b13-4ca1-a117-ce82f8ad3a11",
       "rows": [
        [
         "fecha_partido",
         "0"
        ],
        [
         "equipo_local",
         "0"
        ],
        [
         "equipo_visitante",
         "0"
        ],
        [
         "goles_local",
         "0"
        ],
        [
         "goles_visitante",
         "0"
        ],
        [
         "posesion_local (%)",
         "0"
        ],
        [
         "posesion_visitante (%)",
         "0"
        ],
        [
         "tiros_arco_local",
         "0"
        ],
        [
         "tiros_arco_visitante",
         "0"
        ],
        [
         "estadio",
         "0"
        ]
       ],
       "shape": {
        "columns": 1,
        "rows": 10
       }
      },
      "text/plain": [
       "fecha_partido             0\n",
       "equipo_local              0\n",
       "equipo_visitante          0\n",
       "goles_local               0\n",
       "goles_visitante           0\n",
       "posesion_local (%)        0\n",
       "posesion_visitante (%)    0\n",
       "tiros_arco_local          0\n",
       "tiros_arco_visitante      0\n",
       "estadio                   0\n",
       "dtype: int64"
      ]
     },
     "execution_count": 6,
     "metadata": {},
     "output_type": "execute_result"
    }
   ],
   "source": [
    "df_partidos.isna().sum()"
   ]
  },
  {
   "cell_type": "markdown",
   "id": "90e6b9b5",
   "metadata": {},
   "source": [
    "### One hot encoding"
   ]
  },
  {
   "cell_type": "code",
   "execution_count": 7,
   "id": "897fafa4",
   "metadata": {},
   "outputs": [
    {
     "name": "stdout",
     "output_type": "stream",
     "text": [
      "['Atlético Python' 'NumPy City' 'Cebollitas FC' 'Data United'\n",
      " 'Real Pandas']\n",
      "5\n"
     ]
    }
   ],
   "source": [
    "print(df_partidos['equipo_local'].unique())\n",
    "print(df_partidos['equipo_local'].nunique())\n"
   ]
  },
  {
   "cell_type": "code",
   "execution_count": 8,
   "id": "533f92a4",
   "metadata": {},
   "outputs": [
    {
     "name": "stdout",
     "output_type": "stream",
     "text": [
      "['Cebollitas FC' 'Atlético Python' 'Data United' 'Real Pandas'\n",
      " 'NumPy City']\n",
      "5\n"
     ]
    }
   ],
   "source": [
    "print(df_partidos['equipo_visitante'].unique())\n",
    "print(df_partidos['equipo_visitante'].nunique())\n"
   ]
  },
  {
   "cell_type": "code",
   "execution_count": 9,
   "id": "42ff7bfd",
   "metadata": {},
   "outputs": [
    {
     "data": {
      "text/plain": [
       "(100, 10)"
      ]
     },
     "execution_count": 9,
     "metadata": {},
     "output_type": "execute_result"
    }
   ],
   "source": [
    "df_partidos.shape"
   ]
  },
  {
   "cell_type": "code",
   "execution_count": 10,
   "id": "3d2f5a64",
   "metadata": {},
   "outputs": [
    {
     "data": {
      "application/vnd.microsoft.datawrangler.viewer.v0+json": {
       "columns": [
        {
         "name": "index",
         "rawType": "int64",
         "type": "integer"
        },
        {
         "name": "fecha_partido",
         "rawType": "object",
         "type": "string"
        },
        {
         "name": "goles_local",
         "rawType": "int64",
         "type": "integer"
        },
        {
         "name": "goles_visitante",
         "rawType": "int64",
         "type": "integer"
        },
        {
         "name": "posesion_local (%)",
         "rawType": "int64",
         "type": "integer"
        },
        {
         "name": "posesion_visitante (%)",
         "rawType": "int64",
         "type": "integer"
        },
        {
         "name": "tiros_arco_local",
         "rawType": "int64",
         "type": "integer"
        },
        {
         "name": "tiros_arco_visitante",
         "rawType": "int64",
         "type": "integer"
        },
        {
         "name": "estadio",
         "rawType": "object",
         "type": "string"
        },
        {
         "name": "equipo_local_Atlético Python",
         "rawType": "int64",
         "type": "integer"
        },
        {
         "name": "equipo_local_Cebollitas FC",
         "rawType": "int64",
         "type": "integer"
        },
        {
         "name": "equipo_local_Data United",
         "rawType": "int64",
         "type": "integer"
        },
        {
         "name": "equipo_local_NumPy City",
         "rawType": "int64",
         "type": "integer"
        },
        {
         "name": "equipo_local_Real Pandas",
         "rawType": "int64",
         "type": "integer"
        },
        {
         "name": "equipo_visitante_Atlético Python",
         "rawType": "int64",
         "type": "integer"
        },
        {
         "name": "equipo_visitante_Cebollitas FC",
         "rawType": "int64",
         "type": "integer"
        },
        {
         "name": "equipo_visitante_Data United",
         "rawType": "int64",
         "type": "integer"
        },
        {
         "name": "equipo_visitante_NumPy City",
         "rawType": "int64",
         "type": "integer"
        },
        {
         "name": "equipo_visitante_Real Pandas",
         "rawType": "int64",
         "type": "integer"
        }
       ],
       "ref": "862cdf9d-2727-42dd-a025-54c5bff5d7aa",
       "rows": [
        [
         "0",
         "2023-01-01",
         "2",
         "0",
         "54",
         "46",
         "12",
         "6",
         "Python Arena",
         "1",
         "0",
         "0",
         "0",
         "0",
         "0",
         "1",
         "0",
         "0",
         "0"
        ],
        [
         "1",
         "2023-01-08",
         "1",
         "5",
         "60",
         "40",
         "12",
         "3",
         "Estadio ML",
         "0",
         "0",
         "0",
         "1",
         "0",
         "1",
         "0",
         "0",
         "0",
         "0"
        ],
        [
         "2",
         "2023-01-15",
         "1",
         "0",
         "55",
         "45",
         "10",
         "7",
         "Python Arena",
         "0",
         "1",
         "0",
         "0",
         "0",
         "0",
         "0",
         "1",
         "0",
         "0"
        ],
        [
         "3",
         "2023-01-22",
         "2",
         "3",
         "57",
         "43",
         "3",
         "3",
         "Campo Pandas",
         "1",
         "0",
         "0",
         "0",
         "0",
         "0",
         "0",
         "1",
         "0",
         "0"
        ],
        [
         "4",
         "2023-01-29",
         "5",
         "3",
         "52",
         "48",
         "7",
         "12",
         "Estadio ML",
         "0",
         "0",
         "1",
         "0",
         "0",
         "0",
         "1",
         "0",
         "0",
         "0"
        ]
       ],
       "shape": {
        "columns": 18,
        "rows": 5
       }
      },
      "text/html": [
       "<div>\n",
       "<style scoped>\n",
       "    .dataframe tbody tr th:only-of-type {\n",
       "        vertical-align: middle;\n",
       "    }\n",
       "\n",
       "    .dataframe tbody tr th {\n",
       "        vertical-align: top;\n",
       "    }\n",
       "\n",
       "    .dataframe thead th {\n",
       "        text-align: right;\n",
       "    }\n",
       "</style>\n",
       "<table border=\"1\" class=\"dataframe\">\n",
       "  <thead>\n",
       "    <tr style=\"text-align: right;\">\n",
       "      <th></th>\n",
       "      <th>fecha_partido</th>\n",
       "      <th>goles_local</th>\n",
       "      <th>goles_visitante</th>\n",
       "      <th>posesion_local (%)</th>\n",
       "      <th>posesion_visitante (%)</th>\n",
       "      <th>tiros_arco_local</th>\n",
       "      <th>tiros_arco_visitante</th>\n",
       "      <th>estadio</th>\n",
       "      <th>equipo_local_Atlético Python</th>\n",
       "      <th>equipo_local_Cebollitas FC</th>\n",
       "      <th>equipo_local_Data United</th>\n",
       "      <th>equipo_local_NumPy City</th>\n",
       "      <th>equipo_local_Real Pandas</th>\n",
       "      <th>equipo_visitante_Atlético Python</th>\n",
       "      <th>equipo_visitante_Cebollitas FC</th>\n",
       "      <th>equipo_visitante_Data United</th>\n",
       "      <th>equipo_visitante_NumPy City</th>\n",
       "      <th>equipo_visitante_Real Pandas</th>\n",
       "    </tr>\n",
       "  </thead>\n",
       "  <tbody>\n",
       "    <tr>\n",
       "      <th>0</th>\n",
       "      <td>2023-01-01</td>\n",
       "      <td>2</td>\n",
       "      <td>0</td>\n",
       "      <td>54</td>\n",
       "      <td>46</td>\n",
       "      <td>12</td>\n",
       "      <td>6</td>\n",
       "      <td>Python Arena</td>\n",
       "      <td>1</td>\n",
       "      <td>0</td>\n",
       "      <td>0</td>\n",
       "      <td>0</td>\n",
       "      <td>0</td>\n",
       "      <td>0</td>\n",
       "      <td>1</td>\n",
       "      <td>0</td>\n",
       "      <td>0</td>\n",
       "      <td>0</td>\n",
       "    </tr>\n",
       "    <tr>\n",
       "      <th>1</th>\n",
       "      <td>2023-01-08</td>\n",
       "      <td>1</td>\n",
       "      <td>5</td>\n",
       "      <td>60</td>\n",
       "      <td>40</td>\n",
       "      <td>12</td>\n",
       "      <td>3</td>\n",
       "      <td>Estadio ML</td>\n",
       "      <td>0</td>\n",
       "      <td>0</td>\n",
       "      <td>0</td>\n",
       "      <td>1</td>\n",
       "      <td>0</td>\n",
       "      <td>1</td>\n",
       "      <td>0</td>\n",
       "      <td>0</td>\n",
       "      <td>0</td>\n",
       "      <td>0</td>\n",
       "    </tr>\n",
       "    <tr>\n",
       "      <th>2</th>\n",
       "      <td>2023-01-15</td>\n",
       "      <td>1</td>\n",
       "      <td>0</td>\n",
       "      <td>55</td>\n",
       "      <td>45</td>\n",
       "      <td>10</td>\n",
       "      <td>7</td>\n",
       "      <td>Python Arena</td>\n",
       "      <td>0</td>\n",
       "      <td>1</td>\n",
       "      <td>0</td>\n",
       "      <td>0</td>\n",
       "      <td>0</td>\n",
       "      <td>0</td>\n",
       "      <td>0</td>\n",
       "      <td>1</td>\n",
       "      <td>0</td>\n",
       "      <td>0</td>\n",
       "    </tr>\n",
       "    <tr>\n",
       "      <th>3</th>\n",
       "      <td>2023-01-22</td>\n",
       "      <td>2</td>\n",
       "      <td>3</td>\n",
       "      <td>57</td>\n",
       "      <td>43</td>\n",
       "      <td>3</td>\n",
       "      <td>3</td>\n",
       "      <td>Campo Pandas</td>\n",
       "      <td>1</td>\n",
       "      <td>0</td>\n",
       "      <td>0</td>\n",
       "      <td>0</td>\n",
       "      <td>0</td>\n",
       "      <td>0</td>\n",
       "      <td>0</td>\n",
       "      <td>1</td>\n",
       "      <td>0</td>\n",
       "      <td>0</td>\n",
       "    </tr>\n",
       "    <tr>\n",
       "      <th>4</th>\n",
       "      <td>2023-01-29</td>\n",
       "      <td>5</td>\n",
       "      <td>3</td>\n",
       "      <td>52</td>\n",
       "      <td>48</td>\n",
       "      <td>7</td>\n",
       "      <td>12</td>\n",
       "      <td>Estadio ML</td>\n",
       "      <td>0</td>\n",
       "      <td>0</td>\n",
       "      <td>1</td>\n",
       "      <td>0</td>\n",
       "      <td>0</td>\n",
       "      <td>0</td>\n",
       "      <td>1</td>\n",
       "      <td>0</td>\n",
       "      <td>0</td>\n",
       "      <td>0</td>\n",
       "    </tr>\n",
       "  </tbody>\n",
       "</table>\n",
       "</div>"
      ],
      "text/plain": [
       "  fecha_partido  goles_local  goles_visitante  posesion_local (%)  \\\n",
       "0    2023-01-01            2                0                  54   \n",
       "1    2023-01-08            1                5                  60   \n",
       "2    2023-01-15            1                0                  55   \n",
       "3    2023-01-22            2                3                  57   \n",
       "4    2023-01-29            5                3                  52   \n",
       "\n",
       "   posesion_visitante (%)  tiros_arco_local  tiros_arco_visitante  \\\n",
       "0                      46                12                     6   \n",
       "1                      40                12                     3   \n",
       "2                      45                10                     7   \n",
       "3                      43                 3                     3   \n",
       "4                      48                 7                    12   \n",
       "\n",
       "        estadio  equipo_local_Atlético Python  equipo_local_Cebollitas FC  \\\n",
       "0  Python Arena                             1                           0   \n",
       "1    Estadio ML                             0                           0   \n",
       "2  Python Arena                             0                           1   \n",
       "3  Campo Pandas                             1                           0   \n",
       "4    Estadio ML                             0                           0   \n",
       "\n",
       "   equipo_local_Data United  equipo_local_NumPy City  \\\n",
       "0                         0                        0   \n",
       "1                         0                        1   \n",
       "2                         0                        0   \n",
       "3                         0                        0   \n",
       "4                         1                        0   \n",
       "\n",
       "   equipo_local_Real Pandas  equipo_visitante_Atlético Python  \\\n",
       "0                         0                                 0   \n",
       "1                         0                                 1   \n",
       "2                         0                                 0   \n",
       "3                         0                                 0   \n",
       "4                         0                                 0   \n",
       "\n",
       "   equipo_visitante_Cebollitas FC  equipo_visitante_Data United  \\\n",
       "0                               1                             0   \n",
       "1                               0                             0   \n",
       "2                               0                             1   \n",
       "3                               0                             1   \n",
       "4                               1                             0   \n",
       "\n",
       "   equipo_visitante_NumPy City  equipo_visitante_Real Pandas  \n",
       "0                            0                             0  \n",
       "1                            0                             0  \n",
       "2                            0                             0  \n",
       "3                            0                             0  \n",
       "4                            0                             0  "
      ]
     },
     "execution_count": 10,
     "metadata": {},
     "output_type": "execute_result"
    }
   ],
   "source": [
    "df_partidos_ohe = pd.get_dummies(df_partidos,\n",
    "                                columns=['equipo_local', 'equipo_visitante'],\n",
    "                                prefix=['equipo_local', 'equipo_visitante'],\n",
    "                                dtype=int)\n",
    "\n",
    "df_partidos_ohe.head()"
   ]
  },
  {
   "cell_type": "code",
   "execution_count": 11,
   "id": "12aee279",
   "metadata": {},
   "outputs": [
    {
     "data": {
      "text/plain": [
       "(100, 18)"
      ]
     },
     "execution_count": 11,
     "metadata": {},
     "output_type": "execute_result"
    }
   ],
   "source": [
    "df_partidos_ohe.shape"
   ]
  },
  {
   "cell_type": "code",
   "execution_count": 12,
   "id": "af095865",
   "metadata": {},
   "outputs": [
    {
     "data": {
      "text/plain": [
       "np.int64(0)"
      ]
     },
     "execution_count": 12,
     "metadata": {},
     "output_type": "execute_result"
    }
   ],
   "source": [
    "#gestion de duplicados\n",
    "df_partidos_ohe.duplicated().sum()"
   ]
  },
  {
   "cell_type": "code",
   "execution_count": 13,
   "id": "3837c423",
   "metadata": {},
   "outputs": [
    {
     "data": {
      "text/plain": [
       "100"
      ]
     },
     "execution_count": 13,
     "metadata": {},
     "output_type": "execute_result"
    }
   ],
   "source": [
    "len(df_partidos_ohe)"
   ]
  },
  {
   "cell_type": "markdown",
   "id": "c8ae3ae0",
   "metadata": {},
   "source": [
    "#### Revisar los tipos de datos"
   ]
  },
  {
   "cell_type": "code",
   "execution_count": 14,
   "id": "3362b137",
   "metadata": {},
   "outputs": [
    {
     "data": {
      "application/vnd.microsoft.datawrangler.viewer.v0+json": {
       "columns": [
        {
         "name": "index",
         "rawType": "object",
         "type": "string"
        },
        {
         "name": "0",
         "rawType": "object",
         "type": "unknown"
        }
       ],
       "ref": "c00c83e4-0700-4b18-931e-11e1e8f58e11",
       "rows": [
        [
         "fecha_partido",
         "object"
        ],
        [
         "goles_local",
         "int64"
        ],
        [
         "goles_visitante",
         "int64"
        ],
        [
         "posesion_local (%)",
         "int64"
        ],
        [
         "posesion_visitante (%)",
         "int64"
        ],
        [
         "tiros_arco_local",
         "int64"
        ],
        [
         "tiros_arco_visitante",
         "int64"
        ],
        [
         "estadio",
         "object"
        ],
        [
         "equipo_local_Atlético Python",
         "int64"
        ],
        [
         "equipo_local_Cebollitas FC",
         "int64"
        ],
        [
         "equipo_local_Data United",
         "int64"
        ],
        [
         "equipo_local_NumPy City",
         "int64"
        ],
        [
         "equipo_local_Real Pandas",
         "int64"
        ],
        [
         "equipo_visitante_Atlético Python",
         "int64"
        ],
        [
         "equipo_visitante_Cebollitas FC",
         "int64"
        ],
        [
         "equipo_visitante_Data United",
         "int64"
        ],
        [
         "equipo_visitante_NumPy City",
         "int64"
        ],
        [
         "equipo_visitante_Real Pandas",
         "int64"
        ]
       ],
       "shape": {
        "columns": 1,
        "rows": 18
       }
      },
      "text/plain": [
       "fecha_partido                       object\n",
       "goles_local                          int64\n",
       "goles_visitante                      int64\n",
       "posesion_local (%)                   int64\n",
       "posesion_visitante (%)               int64\n",
       "tiros_arco_local                     int64\n",
       "tiros_arco_visitante                 int64\n",
       "estadio                             object\n",
       "equipo_local_Atlético Python         int64\n",
       "equipo_local_Cebollitas FC           int64\n",
       "equipo_local_Data United             int64\n",
       "equipo_local_NumPy City              int64\n",
       "equipo_local_Real Pandas             int64\n",
       "equipo_visitante_Atlético Python     int64\n",
       "equipo_visitante_Cebollitas FC       int64\n",
       "equipo_visitante_Data United         int64\n",
       "equipo_visitante_NumPy City          int64\n",
       "equipo_visitante_Real Pandas         int64\n",
       "dtype: object"
      ]
     },
     "execution_count": 14,
     "metadata": {},
     "output_type": "execute_result"
    }
   ],
   "source": [
    "df_partidos_ohe.dtypes"
   ]
  },
  {
   "cell_type": "markdown",
   "id": "c4e66d23",
   "metadata": {},
   "source": [
    "solo el campo `fecha_partido` deberia ser corregido"
   ]
  },
  {
   "cell_type": "code",
   "execution_count": 15,
   "id": "6b351f27",
   "metadata": {},
   "outputs": [
    {
     "data": {
      "application/vnd.microsoft.datawrangler.viewer.v0+json": {
       "columns": [
        {
         "name": "index",
         "rawType": "int64",
         "type": "integer"
        },
        {
         "name": "fecha_partido",
         "rawType": "object",
         "type": "string"
        },
        {
         "name": "goles_local",
         "rawType": "int64",
         "type": "integer"
        },
        {
         "name": "goles_visitante",
         "rawType": "int64",
         "type": "integer"
        },
        {
         "name": "posesion_local (%)",
         "rawType": "int64",
         "type": "integer"
        },
        {
         "name": "posesion_visitante (%)",
         "rawType": "int64",
         "type": "integer"
        },
        {
         "name": "tiros_arco_local",
         "rawType": "int64",
         "type": "integer"
        },
        {
         "name": "tiros_arco_visitante",
         "rawType": "int64",
         "type": "integer"
        },
        {
         "name": "estadio",
         "rawType": "object",
         "type": "string"
        },
        {
         "name": "equipo_local_Atlético Python",
         "rawType": "int64",
         "type": "integer"
        },
        {
         "name": "equipo_local_Cebollitas FC",
         "rawType": "int64",
         "type": "integer"
        },
        {
         "name": "equipo_local_Data United",
         "rawType": "int64",
         "type": "integer"
        },
        {
         "name": "equipo_local_NumPy City",
         "rawType": "int64",
         "type": "integer"
        },
        {
         "name": "equipo_local_Real Pandas",
         "rawType": "int64",
         "type": "integer"
        },
        {
         "name": "equipo_visitante_Atlético Python",
         "rawType": "int64",
         "type": "integer"
        },
        {
         "name": "equipo_visitante_Cebollitas FC",
         "rawType": "int64",
         "type": "integer"
        },
        {
         "name": "equipo_visitante_Data United",
         "rawType": "int64",
         "type": "integer"
        },
        {
         "name": "equipo_visitante_NumPy City",
         "rawType": "int64",
         "type": "integer"
        },
        {
         "name": "equipo_visitante_Real Pandas",
         "rawType": "int64",
         "type": "integer"
        }
       ],
       "ref": "72290ef9-29bf-4309-8d32-bf7384eb77b6",
       "rows": [
        [
         "0",
         "2023-01-01",
         "2",
         "0",
         "54",
         "46",
         "12",
         "6",
         "Python Arena",
         "1",
         "0",
         "0",
         "0",
         "0",
         "0",
         "1",
         "0",
         "0",
         "0"
        ],
        [
         "1",
         "2023-01-08",
         "1",
         "5",
         "60",
         "40",
         "12",
         "3",
         "Estadio ML",
         "0",
         "0",
         "0",
         "1",
         "0",
         "1",
         "0",
         "0",
         "0",
         "0"
        ],
        [
         "2",
         "2023-01-15",
         "1",
         "0",
         "55",
         "45",
         "10",
         "7",
         "Python Arena",
         "0",
         "1",
         "0",
         "0",
         "0",
         "0",
         "0",
         "1",
         "0",
         "0"
        ],
        [
         "3",
         "2023-01-22",
         "2",
         "3",
         "57",
         "43",
         "3",
         "3",
         "Campo Pandas",
         "1",
         "0",
         "0",
         "0",
         "0",
         "0",
         "0",
         "1",
         "0",
         "0"
        ],
        [
         "4",
         "2023-01-29",
         "5",
         "3",
         "52",
         "48",
         "7",
         "12",
         "Estadio ML",
         "0",
         "0",
         "1",
         "0",
         "0",
         "0",
         "1",
         "0",
         "0",
         "0"
        ]
       ],
       "shape": {
        "columns": 18,
        "rows": 5
       }
      },
      "text/html": [
       "<div>\n",
       "<style scoped>\n",
       "    .dataframe tbody tr th:only-of-type {\n",
       "        vertical-align: middle;\n",
       "    }\n",
       "\n",
       "    .dataframe tbody tr th {\n",
       "        vertical-align: top;\n",
       "    }\n",
       "\n",
       "    .dataframe thead th {\n",
       "        text-align: right;\n",
       "    }\n",
       "</style>\n",
       "<table border=\"1\" class=\"dataframe\">\n",
       "  <thead>\n",
       "    <tr style=\"text-align: right;\">\n",
       "      <th></th>\n",
       "      <th>fecha_partido</th>\n",
       "      <th>goles_local</th>\n",
       "      <th>goles_visitante</th>\n",
       "      <th>posesion_local (%)</th>\n",
       "      <th>posesion_visitante (%)</th>\n",
       "      <th>tiros_arco_local</th>\n",
       "      <th>tiros_arco_visitante</th>\n",
       "      <th>estadio</th>\n",
       "      <th>equipo_local_Atlético Python</th>\n",
       "      <th>equipo_local_Cebollitas FC</th>\n",
       "      <th>equipo_local_Data United</th>\n",
       "      <th>equipo_local_NumPy City</th>\n",
       "      <th>equipo_local_Real Pandas</th>\n",
       "      <th>equipo_visitante_Atlético Python</th>\n",
       "      <th>equipo_visitante_Cebollitas FC</th>\n",
       "      <th>equipo_visitante_Data United</th>\n",
       "      <th>equipo_visitante_NumPy City</th>\n",
       "      <th>equipo_visitante_Real Pandas</th>\n",
       "    </tr>\n",
       "  </thead>\n",
       "  <tbody>\n",
       "    <tr>\n",
       "      <th>0</th>\n",
       "      <td>2023-01-01</td>\n",
       "      <td>2</td>\n",
       "      <td>0</td>\n",
       "      <td>54</td>\n",
       "      <td>46</td>\n",
       "      <td>12</td>\n",
       "      <td>6</td>\n",
       "      <td>Python Arena</td>\n",
       "      <td>1</td>\n",
       "      <td>0</td>\n",
       "      <td>0</td>\n",
       "      <td>0</td>\n",
       "      <td>0</td>\n",
       "      <td>0</td>\n",
       "      <td>1</td>\n",
       "      <td>0</td>\n",
       "      <td>0</td>\n",
       "      <td>0</td>\n",
       "    </tr>\n",
       "    <tr>\n",
       "      <th>1</th>\n",
       "      <td>2023-01-08</td>\n",
       "      <td>1</td>\n",
       "      <td>5</td>\n",
       "      <td>60</td>\n",
       "      <td>40</td>\n",
       "      <td>12</td>\n",
       "      <td>3</td>\n",
       "      <td>Estadio ML</td>\n",
       "      <td>0</td>\n",
       "      <td>0</td>\n",
       "      <td>0</td>\n",
       "      <td>1</td>\n",
       "      <td>0</td>\n",
       "      <td>1</td>\n",
       "      <td>0</td>\n",
       "      <td>0</td>\n",
       "      <td>0</td>\n",
       "      <td>0</td>\n",
       "    </tr>\n",
       "    <tr>\n",
       "      <th>2</th>\n",
       "      <td>2023-01-15</td>\n",
       "      <td>1</td>\n",
       "      <td>0</td>\n",
       "      <td>55</td>\n",
       "      <td>45</td>\n",
       "      <td>10</td>\n",
       "      <td>7</td>\n",
       "      <td>Python Arena</td>\n",
       "      <td>0</td>\n",
       "      <td>1</td>\n",
       "      <td>0</td>\n",
       "      <td>0</td>\n",
       "      <td>0</td>\n",
       "      <td>0</td>\n",
       "      <td>0</td>\n",
       "      <td>1</td>\n",
       "      <td>0</td>\n",
       "      <td>0</td>\n",
       "    </tr>\n",
       "    <tr>\n",
       "      <th>3</th>\n",
       "      <td>2023-01-22</td>\n",
       "      <td>2</td>\n",
       "      <td>3</td>\n",
       "      <td>57</td>\n",
       "      <td>43</td>\n",
       "      <td>3</td>\n",
       "      <td>3</td>\n",
       "      <td>Campo Pandas</td>\n",
       "      <td>1</td>\n",
       "      <td>0</td>\n",
       "      <td>0</td>\n",
       "      <td>0</td>\n",
       "      <td>0</td>\n",
       "      <td>0</td>\n",
       "      <td>0</td>\n",
       "      <td>1</td>\n",
       "      <td>0</td>\n",
       "      <td>0</td>\n",
       "    </tr>\n",
       "    <tr>\n",
       "      <th>4</th>\n",
       "      <td>2023-01-29</td>\n",
       "      <td>5</td>\n",
       "      <td>3</td>\n",
       "      <td>52</td>\n",
       "      <td>48</td>\n",
       "      <td>7</td>\n",
       "      <td>12</td>\n",
       "      <td>Estadio ML</td>\n",
       "      <td>0</td>\n",
       "      <td>0</td>\n",
       "      <td>1</td>\n",
       "      <td>0</td>\n",
       "      <td>0</td>\n",
       "      <td>0</td>\n",
       "      <td>1</td>\n",
       "      <td>0</td>\n",
       "      <td>0</td>\n",
       "      <td>0</td>\n",
       "    </tr>\n",
       "  </tbody>\n",
       "</table>\n",
       "</div>"
      ],
      "text/plain": [
       "  fecha_partido  goles_local  goles_visitante  posesion_local (%)  \\\n",
       "0    2023-01-01            2                0                  54   \n",
       "1    2023-01-08            1                5                  60   \n",
       "2    2023-01-15            1                0                  55   \n",
       "3    2023-01-22            2                3                  57   \n",
       "4    2023-01-29            5                3                  52   \n",
       "\n",
       "   posesion_visitante (%)  tiros_arco_local  tiros_arco_visitante  \\\n",
       "0                      46                12                     6   \n",
       "1                      40                12                     3   \n",
       "2                      45                10                     7   \n",
       "3                      43                 3                     3   \n",
       "4                      48                 7                    12   \n",
       "\n",
       "        estadio  equipo_local_Atlético Python  equipo_local_Cebollitas FC  \\\n",
       "0  Python Arena                             1                           0   \n",
       "1    Estadio ML                             0                           0   \n",
       "2  Python Arena                             0                           1   \n",
       "3  Campo Pandas                             1                           0   \n",
       "4    Estadio ML                             0                           0   \n",
       "\n",
       "   equipo_local_Data United  equipo_local_NumPy City  \\\n",
       "0                         0                        0   \n",
       "1                         0                        1   \n",
       "2                         0                        0   \n",
       "3                         0                        0   \n",
       "4                         1                        0   \n",
       "\n",
       "   equipo_local_Real Pandas  equipo_visitante_Atlético Python  \\\n",
       "0                         0                                 0   \n",
       "1                         0                                 1   \n",
       "2                         0                                 0   \n",
       "3                         0                                 0   \n",
       "4                         0                                 0   \n",
       "\n",
       "   equipo_visitante_Cebollitas FC  equipo_visitante_Data United  \\\n",
       "0                               1                             0   \n",
       "1                               0                             0   \n",
       "2                               0                             1   \n",
       "3                               0                             1   \n",
       "4                               1                             0   \n",
       "\n",
       "   equipo_visitante_NumPy City  equipo_visitante_Real Pandas  \n",
       "0                            0                             0  \n",
       "1                            0                             0  \n",
       "2                            0                             0  \n",
       "3                            0                             0  \n",
       "4                            0                             0  "
      ]
     },
     "execution_count": 15,
     "metadata": {},
     "output_type": "execute_result"
    }
   ],
   "source": [
    "df_partidos_ohe.head()"
   ]
  },
  {
   "cell_type": "code",
   "execution_count": 19,
   "id": "0d460f85",
   "metadata": {},
   "outputs": [
    {
     "data": {
      "application/vnd.microsoft.datawrangler.viewer.v0+json": {
       "columns": [
        {
         "name": "index",
         "rawType": "int64",
         "type": "integer"
        },
        {
         "name": "fecha_partido",
         "rawType": "datetime64[ns]",
         "type": "datetime"
        },
        {
         "name": "goles_local",
         "rawType": "int64",
         "type": "integer"
        },
        {
         "name": "goles_visitante",
         "rawType": "int64",
         "type": "integer"
        },
        {
         "name": "posesion_local (%)",
         "rawType": "int64",
         "type": "integer"
        },
        {
         "name": "posesion_visitante (%)",
         "rawType": "int64",
         "type": "integer"
        },
        {
         "name": "tiros_arco_local",
         "rawType": "int64",
         "type": "integer"
        },
        {
         "name": "tiros_arco_visitante",
         "rawType": "int64",
         "type": "integer"
        },
        {
         "name": "estadio",
         "rawType": "object",
         "type": "string"
        },
        {
         "name": "equipo_local_Atlético Python",
         "rawType": "int64",
         "type": "integer"
        },
        {
         "name": "equipo_local_Cebollitas FC",
         "rawType": "int64",
         "type": "integer"
        },
        {
         "name": "equipo_local_Data United",
         "rawType": "int64",
         "type": "integer"
        },
        {
         "name": "equipo_local_NumPy City",
         "rawType": "int64",
         "type": "integer"
        },
        {
         "name": "equipo_local_Real Pandas",
         "rawType": "int64",
         "type": "integer"
        },
        {
         "name": "equipo_visitante_Atlético Python",
         "rawType": "int64",
         "type": "integer"
        },
        {
         "name": "equipo_visitante_Cebollitas FC",
         "rawType": "int64",
         "type": "integer"
        },
        {
         "name": "equipo_visitante_Data United",
         "rawType": "int64",
         "type": "integer"
        },
        {
         "name": "equipo_visitante_NumPy City",
         "rawType": "int64",
         "type": "integer"
        },
        {
         "name": "equipo_visitante_Real Pandas",
         "rawType": "int64",
         "type": "integer"
        }
       ],
       "ref": "08e72c6c-33d2-4f6d-9a29-229638c70290",
       "rows": [
        [
         "0",
         "2023-01-01 00:00:00",
         "2",
         "0",
         "54",
         "46",
         "12",
         "6",
         "Python Arena",
         "1",
         "0",
         "0",
         "0",
         "0",
         "0",
         "1",
         "0",
         "0",
         "0"
        ],
        [
         "1",
         "2023-01-08 00:00:00",
         "1",
         "5",
         "60",
         "40",
         "12",
         "3",
         "Estadio ML",
         "0",
         "0",
         "0",
         "1",
         "0",
         "1",
         "0",
         "0",
         "0",
         "0"
        ],
        [
         "2",
         "2023-01-15 00:00:00",
         "1",
         "0",
         "55",
         "45",
         "10",
         "7",
         "Python Arena",
         "0",
         "1",
         "0",
         "0",
         "0",
         "0",
         "0",
         "1",
         "0",
         "0"
        ],
        [
         "3",
         "2023-01-22 00:00:00",
         "2",
         "3",
         "57",
         "43",
         "3",
         "3",
         "Campo Pandas",
         "1",
         "0",
         "0",
         "0",
         "0",
         "0",
         "0",
         "1",
         "0",
         "0"
        ],
        [
         "4",
         "2023-01-29 00:00:00",
         "5",
         "3",
         "52",
         "48",
         "7",
         "12",
         "Estadio ML",
         "0",
         "0",
         "1",
         "0",
         "0",
         "0",
         "1",
         "0",
         "0",
         "0"
        ]
       ],
       "shape": {
        "columns": 18,
        "rows": 5
       }
      },
      "text/html": [
       "<div>\n",
       "<style scoped>\n",
       "    .dataframe tbody tr th:only-of-type {\n",
       "        vertical-align: middle;\n",
       "    }\n",
       "\n",
       "    .dataframe tbody tr th {\n",
       "        vertical-align: top;\n",
       "    }\n",
       "\n",
       "    .dataframe thead th {\n",
       "        text-align: right;\n",
       "    }\n",
       "</style>\n",
       "<table border=\"1\" class=\"dataframe\">\n",
       "  <thead>\n",
       "    <tr style=\"text-align: right;\">\n",
       "      <th></th>\n",
       "      <th>fecha_partido</th>\n",
       "      <th>goles_local</th>\n",
       "      <th>goles_visitante</th>\n",
       "      <th>posesion_local (%)</th>\n",
       "      <th>posesion_visitante (%)</th>\n",
       "      <th>tiros_arco_local</th>\n",
       "      <th>tiros_arco_visitante</th>\n",
       "      <th>estadio</th>\n",
       "      <th>equipo_local_Atlético Python</th>\n",
       "      <th>equipo_local_Cebollitas FC</th>\n",
       "      <th>equipo_local_Data United</th>\n",
       "      <th>equipo_local_NumPy City</th>\n",
       "      <th>equipo_local_Real Pandas</th>\n",
       "      <th>equipo_visitante_Atlético Python</th>\n",
       "      <th>equipo_visitante_Cebollitas FC</th>\n",
       "      <th>equipo_visitante_Data United</th>\n",
       "      <th>equipo_visitante_NumPy City</th>\n",
       "      <th>equipo_visitante_Real Pandas</th>\n",
       "    </tr>\n",
       "  </thead>\n",
       "  <tbody>\n",
       "    <tr>\n",
       "      <th>0</th>\n",
       "      <td>2023-01-01</td>\n",
       "      <td>2</td>\n",
       "      <td>0</td>\n",
       "      <td>54</td>\n",
       "      <td>46</td>\n",
       "      <td>12</td>\n",
       "      <td>6</td>\n",
       "      <td>Python Arena</td>\n",
       "      <td>1</td>\n",
       "      <td>0</td>\n",
       "      <td>0</td>\n",
       "      <td>0</td>\n",
       "      <td>0</td>\n",
       "      <td>0</td>\n",
       "      <td>1</td>\n",
       "      <td>0</td>\n",
       "      <td>0</td>\n",
       "      <td>0</td>\n",
       "    </tr>\n",
       "    <tr>\n",
       "      <th>1</th>\n",
       "      <td>2023-01-08</td>\n",
       "      <td>1</td>\n",
       "      <td>5</td>\n",
       "      <td>60</td>\n",
       "      <td>40</td>\n",
       "      <td>12</td>\n",
       "      <td>3</td>\n",
       "      <td>Estadio ML</td>\n",
       "      <td>0</td>\n",
       "      <td>0</td>\n",
       "      <td>0</td>\n",
       "      <td>1</td>\n",
       "      <td>0</td>\n",
       "      <td>1</td>\n",
       "      <td>0</td>\n",
       "      <td>0</td>\n",
       "      <td>0</td>\n",
       "      <td>0</td>\n",
       "    </tr>\n",
       "    <tr>\n",
       "      <th>2</th>\n",
       "      <td>2023-01-15</td>\n",
       "      <td>1</td>\n",
       "      <td>0</td>\n",
       "      <td>55</td>\n",
       "      <td>45</td>\n",
       "      <td>10</td>\n",
       "      <td>7</td>\n",
       "      <td>Python Arena</td>\n",
       "      <td>0</td>\n",
       "      <td>1</td>\n",
       "      <td>0</td>\n",
       "      <td>0</td>\n",
       "      <td>0</td>\n",
       "      <td>0</td>\n",
       "      <td>0</td>\n",
       "      <td>1</td>\n",
       "      <td>0</td>\n",
       "      <td>0</td>\n",
       "    </tr>\n",
       "    <tr>\n",
       "      <th>3</th>\n",
       "      <td>2023-01-22</td>\n",
       "      <td>2</td>\n",
       "      <td>3</td>\n",
       "      <td>57</td>\n",
       "      <td>43</td>\n",
       "      <td>3</td>\n",
       "      <td>3</td>\n",
       "      <td>Campo Pandas</td>\n",
       "      <td>1</td>\n",
       "      <td>0</td>\n",
       "      <td>0</td>\n",
       "      <td>0</td>\n",
       "      <td>0</td>\n",
       "      <td>0</td>\n",
       "      <td>0</td>\n",
       "      <td>1</td>\n",
       "      <td>0</td>\n",
       "      <td>0</td>\n",
       "    </tr>\n",
       "    <tr>\n",
       "      <th>4</th>\n",
       "      <td>2023-01-29</td>\n",
       "      <td>5</td>\n",
       "      <td>3</td>\n",
       "      <td>52</td>\n",
       "      <td>48</td>\n",
       "      <td>7</td>\n",
       "      <td>12</td>\n",
       "      <td>Estadio ML</td>\n",
       "      <td>0</td>\n",
       "      <td>0</td>\n",
       "      <td>1</td>\n",
       "      <td>0</td>\n",
       "      <td>0</td>\n",
       "      <td>0</td>\n",
       "      <td>1</td>\n",
       "      <td>0</td>\n",
       "      <td>0</td>\n",
       "      <td>0</td>\n",
       "    </tr>\n",
       "  </tbody>\n",
       "</table>\n",
       "</div>"
      ],
      "text/plain": [
       "  fecha_partido  goles_local  goles_visitante  posesion_local (%)  \\\n",
       "0    2023-01-01            2                0                  54   \n",
       "1    2023-01-08            1                5                  60   \n",
       "2    2023-01-15            1                0                  55   \n",
       "3    2023-01-22            2                3                  57   \n",
       "4    2023-01-29            5                3                  52   \n",
       "\n",
       "   posesion_visitante (%)  tiros_arco_local  tiros_arco_visitante  \\\n",
       "0                      46                12                     6   \n",
       "1                      40                12                     3   \n",
       "2                      45                10                     7   \n",
       "3                      43                 3                     3   \n",
       "4                      48                 7                    12   \n",
       "\n",
       "        estadio  equipo_local_Atlético Python  equipo_local_Cebollitas FC  \\\n",
       "0  Python Arena                             1                           0   \n",
       "1    Estadio ML                             0                           0   \n",
       "2  Python Arena                             0                           1   \n",
       "3  Campo Pandas                             1                           0   \n",
       "4    Estadio ML                             0                           0   \n",
       "\n",
       "   equipo_local_Data United  equipo_local_NumPy City  \\\n",
       "0                         0                        0   \n",
       "1                         0                        1   \n",
       "2                         0                        0   \n",
       "3                         0                        0   \n",
       "4                         1                        0   \n",
       "\n",
       "   equipo_local_Real Pandas  equipo_visitante_Atlético Python  \\\n",
       "0                         0                                 0   \n",
       "1                         0                                 1   \n",
       "2                         0                                 0   \n",
       "3                         0                                 0   \n",
       "4                         0                                 0   \n",
       "\n",
       "   equipo_visitante_Cebollitas FC  equipo_visitante_Data United  \\\n",
       "0                               1                             0   \n",
       "1                               0                             0   \n",
       "2                               0                             1   \n",
       "3                               0                             1   \n",
       "4                               1                             0   \n",
       "\n",
       "   equipo_visitante_NumPy City  equipo_visitante_Real Pandas  \n",
       "0                            0                             0  \n",
       "1                            0                             0  \n",
       "2                            0                             0  \n",
       "3                            0                             0  \n",
       "4                            0                             0  "
      ]
     },
     "execution_count": 19,
     "metadata": {},
     "output_type": "execute_result"
    }
   ],
   "source": [
    "df_partidos_ohe['fecha_partido'] = pd.to_datetime(\n",
    "    df_partidos_ohe['fecha_partido'], format=r'%Y-%m-%d', errors='coerce')\n",
    "\n",
    "\n",
    "\n",
    "df_partidos_ohe.head()"
   ]
  },
  {
   "cell_type": "code",
   "execution_count": 20,
   "id": "e975b327",
   "metadata": {},
   "outputs": [
    {
     "data": {
      "application/vnd.microsoft.datawrangler.viewer.v0+json": {
       "columns": [
        {
         "name": "index",
         "rawType": "object",
         "type": "string"
        },
        {
         "name": "0",
         "rawType": "object",
         "type": "unknown"
        }
       ],
       "ref": "59a28e9c-0768-46f2-8f31-d04ba9d020a5",
       "rows": [
        [
         "fecha_partido",
         "datetime64[ns]"
        ],
        [
         "goles_local",
         "int64"
        ],
        [
         "goles_visitante",
         "int64"
        ],
        [
         "posesion_local (%)",
         "int64"
        ],
        [
         "posesion_visitante (%)",
         "int64"
        ],
        [
         "tiros_arco_local",
         "int64"
        ],
        [
         "tiros_arco_visitante",
         "int64"
        ],
        [
         "estadio",
         "object"
        ],
        [
         "equipo_local_Atlético Python",
         "int64"
        ],
        [
         "equipo_local_Cebollitas FC",
         "int64"
        ],
        [
         "equipo_local_Data United",
         "int64"
        ],
        [
         "equipo_local_NumPy City",
         "int64"
        ],
        [
         "equipo_local_Real Pandas",
         "int64"
        ],
        [
         "equipo_visitante_Atlético Python",
         "int64"
        ],
        [
         "equipo_visitante_Cebollitas FC",
         "int64"
        ],
        [
         "equipo_visitante_Data United",
         "int64"
        ],
        [
         "equipo_visitante_NumPy City",
         "int64"
        ],
        [
         "equipo_visitante_Real Pandas",
         "int64"
        ]
       ],
       "shape": {
        "columns": 1,
        "rows": 18
       }
      },
      "text/plain": [
       "fecha_partido                       datetime64[ns]\n",
       "goles_local                                  int64\n",
       "goles_visitante                              int64\n",
       "posesion_local (%)                           int64\n",
       "posesion_visitante (%)                       int64\n",
       "tiros_arco_local                             int64\n",
       "tiros_arco_visitante                         int64\n",
       "estadio                                     object\n",
       "equipo_local_Atlético Python                 int64\n",
       "equipo_local_Cebollitas FC                   int64\n",
       "equipo_local_Data United                     int64\n",
       "equipo_local_NumPy City                      int64\n",
       "equipo_local_Real Pandas                     int64\n",
       "equipo_visitante_Atlético Python             int64\n",
       "equipo_visitante_Cebollitas FC               int64\n",
       "equipo_visitante_Data United                 int64\n",
       "equipo_visitante_NumPy City                  int64\n",
       "equipo_visitante_Real Pandas                 int64\n",
       "dtype: object"
      ]
     },
     "execution_count": 20,
     "metadata": {},
     "output_type": "execute_result"
    }
   ],
   "source": [
    "df_partidos_ohe.dtypes"
   ]
  },
  {
   "cell_type": "code",
   "execution_count": 21,
   "id": "a347b91c",
   "metadata": {},
   "outputs": [
    {
     "data": {
      "application/vnd.microsoft.datawrangler.viewer.v0+json": {
       "columns": [
        {
         "name": "index",
         "rawType": "object",
         "type": "string"
        },
        {
         "name": "0",
         "rawType": "int64",
         "type": "integer"
        }
       ],
       "ref": "191779f1-4ce8-4b41-906b-725a60766ffb",
       "rows": [
        [
         "fecha_partido",
         "0"
        ],
        [
         "goles_local",
         "0"
        ],
        [
         "goles_visitante",
         "0"
        ],
        [
         "posesion_local (%)",
         "0"
        ],
        [
         "posesion_visitante (%)",
         "0"
        ],
        [
         "tiros_arco_local",
         "0"
        ],
        [
         "tiros_arco_visitante",
         "0"
        ],
        [
         "estadio",
         "0"
        ],
        [
         "equipo_local_Atlético Python",
         "0"
        ],
        [
         "equipo_local_Cebollitas FC",
         "0"
        ],
        [
         "equipo_local_Data United",
         "0"
        ],
        [
         "equipo_local_NumPy City",
         "0"
        ],
        [
         "equipo_local_Real Pandas",
         "0"
        ],
        [
         "equipo_visitante_Atlético Python",
         "0"
        ],
        [
         "equipo_visitante_Cebollitas FC",
         "0"
        ],
        [
         "equipo_visitante_Data United",
         "0"
        ],
        [
         "equipo_visitante_NumPy City",
         "0"
        ],
        [
         "equipo_visitante_Real Pandas",
         "0"
        ]
       ],
       "shape": {
        "columns": 1,
        "rows": 18
       }
      },
      "text/plain": [
       "fecha_partido                       0\n",
       "goles_local                         0\n",
       "goles_visitante                     0\n",
       "posesion_local (%)                  0\n",
       "posesion_visitante (%)              0\n",
       "tiros_arco_local                    0\n",
       "tiros_arco_visitante                0\n",
       "estadio                             0\n",
       "equipo_local_Atlético Python        0\n",
       "equipo_local_Cebollitas FC          0\n",
       "equipo_local_Data United            0\n",
       "equipo_local_NumPy City             0\n",
       "equipo_local_Real Pandas            0\n",
       "equipo_visitante_Atlético Python    0\n",
       "equipo_visitante_Cebollitas FC      0\n",
       "equipo_visitante_Data United        0\n",
       "equipo_visitante_NumPy City         0\n",
       "equipo_visitante_Real Pandas        0\n",
       "dtype: int64"
      ]
     },
     "execution_count": 21,
     "metadata": {},
     "output_type": "execute_result"
    }
   ],
   "source": [
    "df_partidos_ohe.isnull().sum()"
   ]
  },
  {
   "cell_type": "code",
   "execution_count": 22,
   "id": "81aca649",
   "metadata": {},
   "outputs": [
    {
     "data": {
      "text/plain": [
       "(100, 18)"
      ]
     },
     "execution_count": 22,
     "metadata": {},
     "output_type": "execute_result"
    }
   ],
   "source": [
    "df_partidos_ohe.shape"
   ]
  },
  {
   "cell_type": "code",
   "execution_count": null,
   "id": "fdf0d581",
   "metadata": {},
   "outputs": [],
   "source": []
  }
 ],
 "metadata": {
  "kernelspec": {
   "display_name": "ml-py3.12",
   "language": "python",
   "name": "python3"
  },
  "language_info": {
   "codemirror_mode": {
    "name": "ipython",
    "version": 3
   },
   "file_extension": ".py",
   "mimetype": "text/x-python",
   "name": "python",
   "nbconvert_exporter": "python",
   "pygments_lexer": "ipython3",
   "version": "3.12.11"
  }
 },
 "nbformat": 4,
 "nbformat_minor": 5
}
