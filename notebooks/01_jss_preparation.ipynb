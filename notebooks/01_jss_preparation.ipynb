{
 "cells": [
  {
   "cell_type": "code",
   "execution_count": 1,
   "id": "9e6b85fc",
   "metadata": {},
   "outputs": [],
   "source": [
    "import pandas as pd\n",
    "from pathlib import Path\n",
    "from utils.paths import DATA_RAW_DIR"
   ]
  },
  {
   "cell_type": "code",
   "execution_count": 5,
   "id": "a2a2a084",
   "metadata": {},
   "outputs": [
    {
     "name": "stdout",
     "output_type": "stream",
     "text": [
      "Path: /Users/jasonssdev/Dev/Learning/Platzi/platzi-machine-learning/data/raw/partidos_cebollitas.csv\n",
      "Does path exist? True\n"
     ]
    }
   ],
   "source": [
    "path_partidos = str(DATA_RAW_DIR / 'partidos_cebollitas.csv')\n",
    "\n",
    "print('Path:', path_partidos)\n",
    "print('Does path exist?', Path(path_partidos).exists())"
   ]
  },
  {
   "cell_type": "code",
   "execution_count": 7,
   "id": "3ab40e3c",
   "metadata": {},
   "outputs": [
    {
     "data": {
      "application/vnd.microsoft.datawrangler.viewer.v0+json": {
       "columns": [
        {
         "name": "index",
         "rawType": "int64",
         "type": "integer"
        },
        {
         "name": "fecha_partido",
         "rawType": "object",
         "type": "string"
        },
        {
         "name": "equipo_local",
         "rawType": "object",
         "type": "string"
        },
        {
         "name": "equipo_visitante",
         "rawType": "object",
         "type": "string"
        },
        {
         "name": "goles_local",
         "rawType": "int64",
         "type": "integer"
        },
        {
         "name": "goles_visitante",
         "rawType": "int64",
         "type": "integer"
        },
        {
         "name": "posesion_local (%)",
         "rawType": "int64",
         "type": "integer"
        },
        {
         "name": "posesion_visitante (%)",
         "rawType": "int64",
         "type": "integer"
        },
        {
         "name": "tiros_arco_local",
         "rawType": "int64",
         "type": "integer"
        },
        {
         "name": "tiros_arco_visitante",
         "rawType": "int64",
         "type": "integer"
        },
        {
         "name": "estadio",
         "rawType": "object",
         "type": "string"
        }
       ],
       "ref": "7e73962f-1765-485d-8ff2-1266863ed3de",
       "rows": [
        [
         "0",
         "2023-01-01",
         "Atlético Python",
         "Cebollitas FC",
         "2",
         "0",
         "54",
         "46",
         "12",
         "6",
         "Python Arena"
        ],
        [
         "1",
         "2023-01-08",
         "NumPy City",
         "Atlético Python",
         "1",
         "5",
         "60",
         "40",
         "12",
         "3",
         "Estadio ML"
        ],
        [
         "2",
         "2023-01-15",
         "Cebollitas FC",
         "Data United",
         "1",
         "0",
         "55",
         "45",
         "10",
         "7",
         "Python Arena"
        ],
        [
         "3",
         "2023-01-22",
         "Atlético Python",
         "Data United",
         "2",
         "3",
         "57",
         "43",
         "3",
         "3",
         "Campo Pandas"
        ],
        [
         "4",
         "2023-01-29",
         "Data United",
         "Cebollitas FC",
         "5",
         "3",
         "52",
         "48",
         "7",
         "12",
         "Estadio ML"
        ]
       ],
       "shape": {
        "columns": 10,
        "rows": 5
       }
      },
      "text/html": [
       "<div>\n",
       "<style scoped>\n",
       "    .dataframe tbody tr th:only-of-type {\n",
       "        vertical-align: middle;\n",
       "    }\n",
       "\n",
       "    .dataframe tbody tr th {\n",
       "        vertical-align: top;\n",
       "    }\n",
       "\n",
       "    .dataframe thead th {\n",
       "        text-align: right;\n",
       "    }\n",
       "</style>\n",
       "<table border=\"1\" class=\"dataframe\">\n",
       "  <thead>\n",
       "    <tr style=\"text-align: right;\">\n",
       "      <th></th>\n",
       "      <th>fecha_partido</th>\n",
       "      <th>equipo_local</th>\n",
       "      <th>equipo_visitante</th>\n",
       "      <th>goles_local</th>\n",
       "      <th>goles_visitante</th>\n",
       "      <th>posesion_local (%)</th>\n",
       "      <th>posesion_visitante (%)</th>\n",
       "      <th>tiros_arco_local</th>\n",
       "      <th>tiros_arco_visitante</th>\n",
       "      <th>estadio</th>\n",
       "    </tr>\n",
       "  </thead>\n",
       "  <tbody>\n",
       "    <tr>\n",
       "      <th>0</th>\n",
       "      <td>2023-01-01</td>\n",
       "      <td>Atlético Python</td>\n",
       "      <td>Cebollitas FC</td>\n",
       "      <td>2</td>\n",
       "      <td>0</td>\n",
       "      <td>54</td>\n",
       "      <td>46</td>\n",
       "      <td>12</td>\n",
       "      <td>6</td>\n",
       "      <td>Python Arena</td>\n",
       "    </tr>\n",
       "    <tr>\n",
       "      <th>1</th>\n",
       "      <td>2023-01-08</td>\n",
       "      <td>NumPy City</td>\n",
       "      <td>Atlético Python</td>\n",
       "      <td>1</td>\n",
       "      <td>5</td>\n",
       "      <td>60</td>\n",
       "      <td>40</td>\n",
       "      <td>12</td>\n",
       "      <td>3</td>\n",
       "      <td>Estadio ML</td>\n",
       "    </tr>\n",
       "    <tr>\n",
       "      <th>2</th>\n",
       "      <td>2023-01-15</td>\n",
       "      <td>Cebollitas FC</td>\n",
       "      <td>Data United</td>\n",
       "      <td>1</td>\n",
       "      <td>0</td>\n",
       "      <td>55</td>\n",
       "      <td>45</td>\n",
       "      <td>10</td>\n",
       "      <td>7</td>\n",
       "      <td>Python Arena</td>\n",
       "    </tr>\n",
       "    <tr>\n",
       "      <th>3</th>\n",
       "      <td>2023-01-22</td>\n",
       "      <td>Atlético Python</td>\n",
       "      <td>Data United</td>\n",
       "      <td>2</td>\n",
       "      <td>3</td>\n",
       "      <td>57</td>\n",
       "      <td>43</td>\n",
       "      <td>3</td>\n",
       "      <td>3</td>\n",
       "      <td>Campo Pandas</td>\n",
       "    </tr>\n",
       "    <tr>\n",
       "      <th>4</th>\n",
       "      <td>2023-01-29</td>\n",
       "      <td>Data United</td>\n",
       "      <td>Cebollitas FC</td>\n",
       "      <td>5</td>\n",
       "      <td>3</td>\n",
       "      <td>52</td>\n",
       "      <td>48</td>\n",
       "      <td>7</td>\n",
       "      <td>12</td>\n",
       "      <td>Estadio ML</td>\n",
       "    </tr>\n",
       "  </tbody>\n",
       "</table>\n",
       "</div>"
      ],
      "text/plain": [
       "  fecha_partido     equipo_local equipo_visitante  goles_local  \\\n",
       "0    2023-01-01  Atlético Python    Cebollitas FC            2   \n",
       "1    2023-01-08       NumPy City  Atlético Python            1   \n",
       "2    2023-01-15    Cebollitas FC      Data United            1   \n",
       "3    2023-01-22  Atlético Python      Data United            2   \n",
       "4    2023-01-29      Data United    Cebollitas FC            5   \n",
       "\n",
       "   goles_visitante  posesion_local (%)  posesion_visitante (%)  \\\n",
       "0                0                  54                      46   \n",
       "1                5                  60                      40   \n",
       "2                0                  55                      45   \n",
       "3                3                  57                      43   \n",
       "4                3                  52                      48   \n",
       "\n",
       "   tiros_arco_local  tiros_arco_visitante       estadio  \n",
       "0                12                     6  Python Arena  \n",
       "1                12                     3    Estadio ML  \n",
       "2                10                     7  Python Arena  \n",
       "3                 3                     3  Campo Pandas  \n",
       "4                 7                    12    Estadio ML  "
      ]
     },
     "execution_count": 7,
     "metadata": {},
     "output_type": "execute_result"
    }
   ],
   "source": [
    "df_partidos = pd.read_csv(path_partidos, sep=',', encoding='utf-8')\n",
    "df_partidos.head()"
   ]
  },
  {
   "cell_type": "code",
   "execution_count": 9,
   "id": "071a11e0",
   "metadata": {},
   "outputs": [
    {
     "name": "stdout",
     "output_type": "stream",
     "text": [
      "<class 'pandas.core.frame.DataFrame'>\n",
      "RangeIndex: 100 entries, 0 to 99\n",
      "Data columns (total 10 columns):\n",
      " #   Column                  Non-Null Count  Dtype \n",
      "---  ------                  --------------  ----- \n",
      " 0   fecha_partido           100 non-null    object\n",
      " 1   equipo_local            100 non-null    object\n",
      " 2   equipo_visitante        100 non-null    object\n",
      " 3   goles_local             100 non-null    int64 \n",
      " 4   goles_visitante         100 non-null    int64 \n",
      " 5   posesion_local (%)      100 non-null    int64 \n",
      " 6   posesion_visitante (%)  100 non-null    int64 \n",
      " 7   tiros_arco_local        100 non-null    int64 \n",
      " 8   tiros_arco_visitante    100 non-null    int64 \n",
      " 9   estadio                 100 non-null    object\n",
      "dtypes: int64(6), object(4)\n",
      "memory usage: 7.9+ KB\n"
     ]
    }
   ],
   "source": [
    "df_partidos.info()"
   ]
  },
  {
   "cell_type": "code",
   "execution_count": 14,
   "id": "268fda84",
   "metadata": {},
   "outputs": [
    {
     "data": {
      "text/plain": [
       "np.int64(0)"
      ]
     },
     "execution_count": 14,
     "metadata": {},
     "output_type": "execute_result"
    }
   ],
   "source": [
    "df_partidos['goles_local'].isna().sum()"
   ]
  },
  {
   "cell_type": "code",
   "execution_count": null,
   "id": "737363a1",
   "metadata": {},
   "outputs": [],
   "source": []
  }
 ],
 "metadata": {
  "kernelspec": {
   "display_name": "ml-py3.12",
   "language": "python",
   "name": "python3"
  },
  "language_info": {
   "codemirror_mode": {
    "name": "ipython",
    "version": 3
   },
   "file_extension": ".py",
   "mimetype": "text/x-python",
   "name": "python",
   "nbconvert_exporter": "python",
   "pygments_lexer": "ipython3",
   "version": "3.12.9"
  }
 },
 "nbformat": 4,
 "nbformat_minor": 5
}
