{
 "cells": [
  {
   "cell_type": "code",
   "execution_count": 1,
   "id": "54e65872",
   "metadata": {},
   "outputs": [],
   "source": [
    "import pandas as pd\n",
    "import matplotlib.pyplot as plt\n",
    "import seaborn as sns\n",
    "from pathlib import Path\n",
    "from utils.paths import DATA_RAW_DIR\n"
   ]
  },
  {
   "cell_type": "code",
   "execution_count": 2,
   "id": "c3b8dfd4",
   "metadata": {},
   "outputs": [
    {
     "name": "stdout",
     "output_type": "stream",
     "text": [
      "Path: /Users/jssdev/Dev/Learning/Platzi/platzi-machine-learning/data/raw/partidos_cebollitas.csv\n",
      "Does path exist? True\n"
     ]
    }
   ],
   "source": [
    "path_partidos = str(DATA_RAW_DIR / 'partidos_cebollitas.csv')\n",
    "\n",
    "print('Path:', path_partidos)\n",
    "print('Does path exist?', Path(path_partidos).exists())"
   ]
  },
  {
   "cell_type": "code",
   "execution_count": 3,
   "id": "2c53b672",
   "metadata": {},
   "outputs": [
    {
     "data": {
      "application/vnd.microsoft.datawrangler.viewer.v0+json": {
       "columns": [
        {
         "name": "index",
         "rawType": "int64",
         "type": "integer"
        },
        {
         "name": "fecha_partido",
         "rawType": "object",
         "type": "string"
        },
        {
         "name": "equipo_local",
         "rawType": "object",
         "type": "string"
        },
        {
         "name": "equipo_visitante",
         "rawType": "object",
         "type": "string"
        },
        {
         "name": "goles_local",
         "rawType": "int64",
         "type": "integer"
        },
        {
         "name": "goles_visitante",
         "rawType": "int64",
         "type": "integer"
        },
        {
         "name": "posesion_local (%)",
         "rawType": "int64",
         "type": "integer"
        },
        {
         "name": "posesion_visitante (%)",
         "rawType": "int64",
         "type": "integer"
        },
        {
         "name": "tiros_arco_local",
         "rawType": "int64",
         "type": "integer"
        },
        {
         "name": "tiros_arco_visitante",
         "rawType": "int64",
         "type": "integer"
        },
        {
         "name": "estadio",
         "rawType": "object",
         "type": "string"
        }
       ],
       "ref": "c1384259-1156-44df-a0c1-de8c95b10eca",
       "rows": [
        [
         "0",
         "2023-01-01",
         "Atlético Python",
         "Cebollitas FC",
         "2",
         "0",
         "54",
         "46",
         "12",
         "6",
         "Python Arena"
        ],
        [
         "1",
         "2023-01-08",
         "NumPy City",
         "Atlético Python",
         "1",
         "5",
         "60",
         "40",
         "12",
         "3",
         "Estadio ML"
        ],
        [
         "2",
         "2023-01-15",
         "Cebollitas FC",
         "Data United",
         "1",
         "0",
         "55",
         "45",
         "10",
         "7",
         "Python Arena"
        ],
        [
         "3",
         "2023-01-22",
         "Atlético Python",
         "Data United",
         "2",
         "3",
         "57",
         "43",
         "3",
         "3",
         "Campo Pandas"
        ],
        [
         "4",
         "2023-01-29",
         "Data United",
         "Cebollitas FC",
         "5",
         "3",
         "52",
         "48",
         "7",
         "12",
         "Estadio ML"
        ]
       ],
       "shape": {
        "columns": 10,
        "rows": 5
       }
      },
      "text/html": [
       "<div>\n",
       "<style scoped>\n",
       "    .dataframe tbody tr th:only-of-type {\n",
       "        vertical-align: middle;\n",
       "    }\n",
       "\n",
       "    .dataframe tbody tr th {\n",
       "        vertical-align: top;\n",
       "    }\n",
       "\n",
       "    .dataframe thead th {\n",
       "        text-align: right;\n",
       "    }\n",
       "</style>\n",
       "<table border=\"1\" class=\"dataframe\">\n",
       "  <thead>\n",
       "    <tr style=\"text-align: right;\">\n",
       "      <th></th>\n",
       "      <th>fecha_partido</th>\n",
       "      <th>equipo_local</th>\n",
       "      <th>equipo_visitante</th>\n",
       "      <th>goles_local</th>\n",
       "      <th>goles_visitante</th>\n",
       "      <th>posesion_local (%)</th>\n",
       "      <th>posesion_visitante (%)</th>\n",
       "      <th>tiros_arco_local</th>\n",
       "      <th>tiros_arco_visitante</th>\n",
       "      <th>estadio</th>\n",
       "    </tr>\n",
       "  </thead>\n",
       "  <tbody>\n",
       "    <tr>\n",
       "      <th>0</th>\n",
       "      <td>2023-01-01</td>\n",
       "      <td>Atlético Python</td>\n",
       "      <td>Cebollitas FC</td>\n",
       "      <td>2</td>\n",
       "      <td>0</td>\n",
       "      <td>54</td>\n",
       "      <td>46</td>\n",
       "      <td>12</td>\n",
       "      <td>6</td>\n",
       "      <td>Python Arena</td>\n",
       "    </tr>\n",
       "    <tr>\n",
       "      <th>1</th>\n",
       "      <td>2023-01-08</td>\n",
       "      <td>NumPy City</td>\n",
       "      <td>Atlético Python</td>\n",
       "      <td>1</td>\n",
       "      <td>5</td>\n",
       "      <td>60</td>\n",
       "      <td>40</td>\n",
       "      <td>12</td>\n",
       "      <td>3</td>\n",
       "      <td>Estadio ML</td>\n",
       "    </tr>\n",
       "    <tr>\n",
       "      <th>2</th>\n",
       "      <td>2023-01-15</td>\n",
       "      <td>Cebollitas FC</td>\n",
       "      <td>Data United</td>\n",
       "      <td>1</td>\n",
       "      <td>0</td>\n",
       "      <td>55</td>\n",
       "      <td>45</td>\n",
       "      <td>10</td>\n",
       "      <td>7</td>\n",
       "      <td>Python Arena</td>\n",
       "    </tr>\n",
       "    <tr>\n",
       "      <th>3</th>\n",
       "      <td>2023-01-22</td>\n",
       "      <td>Atlético Python</td>\n",
       "      <td>Data United</td>\n",
       "      <td>2</td>\n",
       "      <td>3</td>\n",
       "      <td>57</td>\n",
       "      <td>43</td>\n",
       "      <td>3</td>\n",
       "      <td>3</td>\n",
       "      <td>Campo Pandas</td>\n",
       "    </tr>\n",
       "    <tr>\n",
       "      <th>4</th>\n",
       "      <td>2023-01-29</td>\n",
       "      <td>Data United</td>\n",
       "      <td>Cebollitas FC</td>\n",
       "      <td>5</td>\n",
       "      <td>3</td>\n",
       "      <td>52</td>\n",
       "      <td>48</td>\n",
       "      <td>7</td>\n",
       "      <td>12</td>\n",
       "      <td>Estadio ML</td>\n",
       "    </tr>\n",
       "  </tbody>\n",
       "</table>\n",
       "</div>"
      ],
      "text/plain": [
       "  fecha_partido     equipo_local equipo_visitante  goles_local  \\\n",
       "0    2023-01-01  Atlético Python    Cebollitas FC            2   \n",
       "1    2023-01-08       NumPy City  Atlético Python            1   \n",
       "2    2023-01-15    Cebollitas FC      Data United            1   \n",
       "3    2023-01-22  Atlético Python      Data United            2   \n",
       "4    2023-01-29      Data United    Cebollitas FC            5   \n",
       "\n",
       "   goles_visitante  posesion_local (%)  posesion_visitante (%)  \\\n",
       "0                0                  54                      46   \n",
       "1                5                  60                      40   \n",
       "2                0                  55                      45   \n",
       "3                3                  57                      43   \n",
       "4                3                  52                      48   \n",
       "\n",
       "   tiros_arco_local  tiros_arco_visitante       estadio  \n",
       "0                12                     6  Python Arena  \n",
       "1                12                     3    Estadio ML  \n",
       "2                10                     7  Python Arena  \n",
       "3                 3                     3  Campo Pandas  \n",
       "4                 7                    12    Estadio ML  "
      ]
     },
     "execution_count": 3,
     "metadata": {},
     "output_type": "execute_result"
    }
   ],
   "source": [
    "df_partidos = pd.read_csv(path_partidos, sep=',', encoding='utf-8')\n",
    "df_partidos.head()"
   ]
  },
  {
   "cell_type": "markdown",
   "id": "f9774428",
   "metadata": {},
   "source": [
    "## Feature Engineering"
   ]
  },
  {
   "cell_type": "markdown",
   "id": "eb999500",
   "metadata": {},
   "source": [
    "#### Diferencia de goles (local - visitante)"
   ]
  },
  {
   "cell_type": "code",
   "execution_count": 4,
   "id": "27ca7b56",
   "metadata": {},
   "outputs": [
    {
     "data": {
      "application/vnd.microsoft.datawrangler.viewer.v0+json": {
       "columns": [
        {
         "name": "index",
         "rawType": "int64",
         "type": "integer"
        },
        {
         "name": "goles_local",
         "rawType": "int64",
         "type": "integer"
        },
        {
         "name": "goles_visitante",
         "rawType": "int64",
         "type": "integer"
        },
        {
         "name": "diferencia_goles",
         "rawType": "int64",
         "type": "integer"
        }
       ],
       "ref": "5b96101d-e7be-4cfb-b5e0-1a3b3d6065c2",
       "rows": [
        [
         "0",
         "2",
         "0",
         "2"
        ],
        [
         "1",
         "1",
         "5",
         "-4"
        ],
        [
         "2",
         "1",
         "0",
         "1"
        ],
        [
         "3",
         "2",
         "3",
         "-1"
        ],
        [
         "4",
         "5",
         "3",
         "2"
        ]
       ],
       "shape": {
        "columns": 3,
        "rows": 5
       }
      },
      "text/html": [
       "<div>\n",
       "<style scoped>\n",
       "    .dataframe tbody tr th:only-of-type {\n",
       "        vertical-align: middle;\n",
       "    }\n",
       "\n",
       "    .dataframe tbody tr th {\n",
       "        vertical-align: top;\n",
       "    }\n",
       "\n",
       "    .dataframe thead th {\n",
       "        text-align: right;\n",
       "    }\n",
       "</style>\n",
       "<table border=\"1\" class=\"dataframe\">\n",
       "  <thead>\n",
       "    <tr style=\"text-align: right;\">\n",
       "      <th></th>\n",
       "      <th>goles_local</th>\n",
       "      <th>goles_visitante</th>\n",
       "      <th>diferencia_goles</th>\n",
       "    </tr>\n",
       "  </thead>\n",
       "  <tbody>\n",
       "    <tr>\n",
       "      <th>0</th>\n",
       "      <td>2</td>\n",
       "      <td>0</td>\n",
       "      <td>2</td>\n",
       "    </tr>\n",
       "    <tr>\n",
       "      <th>1</th>\n",
       "      <td>1</td>\n",
       "      <td>5</td>\n",
       "      <td>-4</td>\n",
       "    </tr>\n",
       "    <tr>\n",
       "      <th>2</th>\n",
       "      <td>1</td>\n",
       "      <td>0</td>\n",
       "      <td>1</td>\n",
       "    </tr>\n",
       "    <tr>\n",
       "      <th>3</th>\n",
       "      <td>2</td>\n",
       "      <td>3</td>\n",
       "      <td>-1</td>\n",
       "    </tr>\n",
       "    <tr>\n",
       "      <th>4</th>\n",
       "      <td>5</td>\n",
       "      <td>3</td>\n",
       "      <td>2</td>\n",
       "    </tr>\n",
       "  </tbody>\n",
       "</table>\n",
       "</div>"
      ],
      "text/plain": [
       "   goles_local  goles_visitante  diferencia_goles\n",
       "0            2                0                 2\n",
       "1            1                5                -4\n",
       "2            1                0                 1\n",
       "3            2                3                -1\n",
       "4            5                3                 2"
      ]
     },
     "execution_count": 4,
     "metadata": {},
     "output_type": "execute_result"
    }
   ],
   "source": [
    "df_partidos['diferencia_goles'] = df_partidos['goles_local'] - df_partidos['goles_visitante']\n",
    "\n",
    "df_partidos[['goles_local', 'goles_visitante', 'diferencia_goles']].head()"
   ]
  },
  {
   "cell_type": "markdown",
   "id": "4dac385e",
   "metadata": {},
   "source": [
    "#### Ratio de tiros al arco por porcentaje de posesion"
   ]
  },
  {
   "cell_type": "code",
   "execution_count": 6,
   "id": "65c40959",
   "metadata": {},
   "outputs": [],
   "source": [
    "df_partidos['ratio_tiros_posesion_local'] = df_partidos['tiros_arco_local'] / df_partidos['posesion_local (%)']"
   ]
  },
  {
   "cell_type": "code",
   "execution_count": 7,
   "id": "13506051",
   "metadata": {},
   "outputs": [
    {
     "data": {
      "application/vnd.microsoft.datawrangler.viewer.v0+json": {
       "columns": [
        {
         "name": "index",
         "rawType": "int64",
         "type": "integer"
        },
        {
         "name": "tiros_arco_local",
         "rawType": "int64",
         "type": "integer"
        },
        {
         "name": "posesion_local (%)",
         "rawType": "int64",
         "type": "integer"
        },
        {
         "name": "ratio_tiros_posesion_local",
         "rawType": "float64",
         "type": "float"
        }
       ],
       "ref": "108f5b0c-2f85-4920-978c-351d5392130a",
       "rows": [
        [
         "0",
         "12",
         "54",
         "0.2222222222222222"
        ],
        [
         "1",
         "12",
         "60",
         "0.2"
        ],
        [
         "2",
         "10",
         "55",
         "0.18181818181818182"
        ],
        [
         "3",
         "3",
         "57",
         "0.05263157894736842"
        ],
        [
         "4",
         "7",
         "52",
         "0.1346153846153846"
        ]
       ],
       "shape": {
        "columns": 3,
        "rows": 5
       }
      },
      "text/html": [
       "<div>\n",
       "<style scoped>\n",
       "    .dataframe tbody tr th:only-of-type {\n",
       "        vertical-align: middle;\n",
       "    }\n",
       "\n",
       "    .dataframe tbody tr th {\n",
       "        vertical-align: top;\n",
       "    }\n",
       "\n",
       "    .dataframe thead th {\n",
       "        text-align: right;\n",
       "    }\n",
       "</style>\n",
       "<table border=\"1\" class=\"dataframe\">\n",
       "  <thead>\n",
       "    <tr style=\"text-align: right;\">\n",
       "      <th></th>\n",
       "      <th>tiros_arco_local</th>\n",
       "      <th>posesion_local (%)</th>\n",
       "      <th>ratio_tiros_posesion_local</th>\n",
       "    </tr>\n",
       "  </thead>\n",
       "  <tbody>\n",
       "    <tr>\n",
       "      <th>0</th>\n",
       "      <td>12</td>\n",
       "      <td>54</td>\n",
       "      <td>0.222222</td>\n",
       "    </tr>\n",
       "    <tr>\n",
       "      <th>1</th>\n",
       "      <td>12</td>\n",
       "      <td>60</td>\n",
       "      <td>0.200000</td>\n",
       "    </tr>\n",
       "    <tr>\n",
       "      <th>2</th>\n",
       "      <td>10</td>\n",
       "      <td>55</td>\n",
       "      <td>0.181818</td>\n",
       "    </tr>\n",
       "    <tr>\n",
       "      <th>3</th>\n",
       "      <td>3</td>\n",
       "      <td>57</td>\n",
       "      <td>0.052632</td>\n",
       "    </tr>\n",
       "    <tr>\n",
       "      <th>4</th>\n",
       "      <td>7</td>\n",
       "      <td>52</td>\n",
       "      <td>0.134615</td>\n",
       "    </tr>\n",
       "  </tbody>\n",
       "</table>\n",
       "</div>"
      ],
      "text/plain": [
       "   tiros_arco_local  posesion_local (%)  ratio_tiros_posesion_local\n",
       "0                12                  54                    0.222222\n",
       "1                12                  60                    0.200000\n",
       "2                10                  55                    0.181818\n",
       "3                 3                  57                    0.052632\n",
       "4                 7                  52                    0.134615"
      ]
     },
     "execution_count": 7,
     "metadata": {},
     "output_type": "execute_result"
    }
   ],
   "source": [
    "df_partidos[['tiros_arco_local', 'posesion_local (%)', 'ratio_tiros_posesion_local']].head()"
   ]
  },
  {
   "cell_type": "code",
   "execution_count": 8,
   "id": "fce91172",
   "metadata": {},
   "outputs": [
    {
     "data": {
      "text/plain": [
       "0.2727272727272727"
      ]
     },
     "execution_count": 8,
     "metadata": {},
     "output_type": "execute_result"
    }
   ],
   "source": [
    "df_partidos['ratio_tiros_posesion_local'].max()"
   ]
  },
  {
   "cell_type": "code",
   "execution_count": 9,
   "id": "0b16989a",
   "metadata": {},
   "outputs": [
    {
     "data": {
      "application/vnd.microsoft.datawrangler.viewer.v0+json": {
       "columns": [
        {
         "name": "index",
         "rawType": "object",
         "type": "string"
        },
        {
         "name": "ratio_tiros_posesion_local",
         "rawType": "float64",
         "type": "float"
        }
       ],
       "ref": "656da5bc-c278-4aaf-bfcb-1119a9829934",
       "rows": [
        [
         "count",
         "100.0"
        ],
        [
         "mean",
         "0.1520528276046277"
        ],
        [
         "std",
         "0.05940758239621965"
        ],
        [
         "min",
         "0.05"
        ],
        [
         "25%",
         "0.1"
        ],
        [
         "50%",
         "0.14907407407407408"
        ],
        [
         "75%",
         "0.2"
        ],
        [
         "max",
         "0.2727272727272727"
        ]
       ],
       "shape": {
        "columns": 1,
        "rows": 8
       }
      },
      "text/plain": [
       "count    100.000000\n",
       "mean       0.152053\n",
       "std        0.059408\n",
       "min        0.050000\n",
       "25%        0.100000\n",
       "50%        0.149074\n",
       "75%        0.200000\n",
       "max        0.272727\n",
       "Name: ratio_tiros_posesion_local, dtype: float64"
      ]
     },
     "execution_count": 9,
     "metadata": {},
     "output_type": "execute_result"
    }
   ],
   "source": [
    "df_partidos['ratio_tiros_posesion_local'].describe()"
   ]
  },
  {
   "cell_type": "markdown",
   "id": "392691f8",
   "metadata": {},
   "source": [
    "### Histograma"
   ]
  },
  {
   "cell_type": "code",
   "execution_count": 12,
   "id": "06774ba6",
   "metadata": {},
   "outputs": [
    {
     "data": {
      "image/png": "[encoded data removed]",
      "text/plain": [
       "<Figure size 1200x400 with 1 Axes>"
      ]
     },
     "metadata": {},
     "output_type": "display_data"
    }
   ],
   "source": [
    "# Histograma de diferencia de goles\n",
    "fig, ax = plt.subplots(nrows=1, ncols=1, figsize=(12, 4))\n",
    "\n",
    "sns.histplot(x=df_partidos['diferencia_goles'], bins=15, kde=True, ax=ax)\n",
    "ax.set_title('Distribución Diferencia de Goles')\n",
    "plt.xlabel('Diferencia de goles (local - visitante)')\n",
    "plt.ylabel('Frecuencia')\n",
    "plt.show()"
   ]
  },
  {
   "cell_type": "markdown",
   "id": "80417515",
   "metadata": {},
   "source": [
    "#### Correlacion"
   ]
  },
  {
   "cell_type": "code",
   "execution_count": 13,
   "id": "8b9772f6",
   "metadata": {},
   "outputs": [],
   "source": [
    "corr_vars = ['goles_local', 'goles_visitante', 'diferencia_goles', 'ratio_tiros_posesion_local']"
   ]
  },
  {
   "cell_type": "code",
   "execution_count": 15,
   "id": "08b8ed86",
   "metadata": {},
   "outputs": [
    {
     "data": {
      "application/vnd.microsoft.datawrangler.viewer.v0+json": {
       "columns": [
        {
         "name": "index",
         "rawType": "object",
         "type": "string"
        },
        {
         "name": "goles_local",
         "rawType": "float64",
         "type": "float"
        },
        {
         "name": "goles_visitante",
         "rawType": "float64",
         "type": "float"
        },
        {
         "name": "diferencia_goles",
         "rawType": "float64",
         "type": "float"
        },
        {
         "name": "ratio_tiros_posesion_local",
         "rawType": "float64",
         "type": "float"
        }
       ],
       "ref": "7367962c-7525-4500-b2d6-bafc899d17ec",
       "rows": [
        [
         "goles_local",
         "1.0",
         "-0.017861332922241152",
         "0.6710345531313727",
         "-0.15217859462116962"
        ],
        [
         "goles_visitante",
         "-0.017861332922241152",
         "1.0",
         "-0.7532933721457772",
         "0.058957296763843994"
        ],
        [
         "diferencia_goles",
         "0.6710345531313727",
         "-0.7532933721457772",
         "1.0",
         "-0.14382094586339006"
        ],
        [
         "ratio_tiros_posesion_local",
         "-0.15217859462116962",
         "0.058957296763843994",
         "-0.14382094586339006",
         "1.0"
        ]
       ],
       "shape": {
        "columns": 4,
        "rows": 4
       }
      },
      "text/html": [
       "<div>\n",
       "<style scoped>\n",
       "    .dataframe tbody tr th:only-of-type {\n",
       "        vertical-align: middle;\n",
       "    }\n",
       "\n",
       "    .dataframe tbody tr th {\n",
       "        vertical-align: top;\n",
       "    }\n",
       "\n",
       "    .dataframe thead th {\n",
       "        text-align: right;\n",
       "    }\n",
       "</style>\n",
       "<table border=\"1\" class=\"dataframe\">\n",
       "  <thead>\n",
       "    <tr style=\"text-align: right;\">\n",
       "      <th></th>\n",
       "      <th>goles_local</th>\n",
       "      <th>goles_visitante</th>\n",
       "      <th>diferencia_goles</th>\n",
       "      <th>ratio_tiros_posesion_local</th>\n",
       "    </tr>\n",
       "  </thead>\n",
       "  <tbody>\n",
       "    <tr>\n",
       "      <th>goles_local</th>\n",
       "      <td>1.000000</td>\n",
       "      <td>-0.017861</td>\n",
       "      <td>0.671035</td>\n",
       "      <td>-0.152179</td>\n",
       "    </tr>\n",
       "    <tr>\n",
       "      <th>goles_visitante</th>\n",
       "      <td>-0.017861</td>\n",
       "      <td>1.000000</td>\n",
       "      <td>-0.753293</td>\n",
       "      <td>0.058957</td>\n",
       "    </tr>\n",
       "    <tr>\n",
       "      <th>diferencia_goles</th>\n",
       "      <td>0.671035</td>\n",
       "      <td>-0.753293</td>\n",
       "      <td>1.000000</td>\n",
       "      <td>-0.143821</td>\n",
       "    </tr>\n",
       "    <tr>\n",
       "      <th>ratio_tiros_posesion_local</th>\n",
       "      <td>-0.152179</td>\n",
       "      <td>0.058957</td>\n",
       "      <td>-0.143821</td>\n",
       "      <td>1.000000</td>\n",
       "    </tr>\n",
       "  </tbody>\n",
       "</table>\n",
       "</div>"
      ],
      "text/plain": [
       "                            goles_local  goles_visitante  diferencia_goles  \\\n",
       "goles_local                    1.000000        -0.017861          0.671035   \n",
       "goles_visitante               -0.017861         1.000000         -0.753293   \n",
       "diferencia_goles               0.671035        -0.753293          1.000000   \n",
       "ratio_tiros_posesion_local    -0.152179         0.058957         -0.143821   \n",
       "\n",
       "                            ratio_tiros_posesion_local  \n",
       "goles_local                                  -0.152179  \n",
       "goles_visitante                               0.058957  \n",
       "diferencia_goles                             -0.143821  \n",
       "ratio_tiros_posesion_local                    1.000000  "
      ]
     },
     "execution_count": 15,
     "metadata": {},
     "output_type": "execute_result"
    }
   ],
   "source": [
    "corr_matrix = df_partidos[corr_vars].corr()\n",
    "corr_matrix"
   ]
  },
  {
   "cell_type": "markdown",
   "id": "8ea40075",
   "metadata": {},
   "source": [
    "#### Heatmap"
   ]
  },
  {
   "cell_type": "code",
   "execution_count": 16,
   "id": "70bab8da",
   "metadata": {},
   "outputs": [
    {
     "data": {
      "image/png": "[encoded data removed]",
      "text/plain": [
       "<Figure size 640x480 with 2 Axes>"
      ]
     },
     "metadata": {},
     "output_type": "display_data"
    }
   ],
   "source": [
    "sns.heatmap(corr_matrix, annot=True, cmap='coolwarm')\n",
    "plt.title('Correlación entre variables originales y nuevas')\n",
    "plt.show()"
   ]
  },
  {
   "cell_type": "code",
   "execution_count": null,
   "id": "a249846d",
   "metadata": {},
   "outputs": [],
   "source": []
  }
 ],
 "metadata": {
  "kernelspec": {
   "display_name": "ml-py3.12",
   "language": "python",
   "name": "python3"
  },
  "language_info": {
   "codemirror_mode": {
    "name": "ipython",
    "version": 3
   },
   "file_extension": ".py",
   "mimetype": "text/x-python",
   "name": "python",
   "nbconvert_exporter": "python",
   "pygments_lexer": "ipython3",
   "version": "3.12.11"
  }
 },
 "nbformat": 4,
 "nbformat_minor": 5
}
