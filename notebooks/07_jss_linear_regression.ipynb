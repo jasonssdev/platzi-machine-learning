{
 "cells": [
  {
   "cell_type": "code",
   "execution_count": 1,
   "id": "ded8a647",
   "metadata": {},
   "outputs": [],
   "source": [
    "import pandas as pd\n",
    "import matplotlib.pyplot as plt\n",
    "import seaborn as sns\n",
    "from pathlib import Path\n",
    "from utils.paths import DATA_RAW_DIR\n",
    "\n",
    "from sklearn.model_selection import train_test_split\n",
    "from sklearn.linear_model import LinearRegression\n",
    "\n",
    "import ipywidgets as widgets\n",
    "from IPython.display import display"
   ]
  },
  {
   "cell_type": "code",
   "execution_count": 2,
   "id": "44b97c61",
   "metadata": {},
   "outputs": [
    {
     "name": "stdout",
     "output_type": "stream",
     "text": [
      "Path: /Users/jssdev/Dev/Learning/Platzi/platzi-machine-learning/data/raw/partidos_cebollitas.csv\n",
      "Does path exist? True\n"
     ]
    }
   ],
   "source": [
    "path_partidos = str(DATA_RAW_DIR / 'partidos_cebollitas.csv')\n",
    "\n",
    "print('Path:', path_partidos)\n",
    "print('Does path exist?', Path(path_partidos).exists())"
   ]
  },
  {
   "cell_type": "code",
   "execution_count": 3,
   "id": "70df3036",
   "metadata": {},
   "outputs": [],
   "source": [
    "df_partidos = pd.read_csv(path_partidos, sep=',', encoding='utf-8')"
   ]
  },
  {
   "cell_type": "code",
   "execution_count": 4,
   "id": "115baa23",
   "metadata": {},
   "outputs": [],
   "source": [
    "df_partidos['diferencia_goles'] = df_partidos['goles_local'] - df_partidos['goles_visitante']"
   ]
  },
  {
   "cell_type": "code",
   "execution_count": 5,
   "id": "11f69d98",
   "metadata": {},
   "outputs": [],
   "source": [
    "# Variables predictoras\n",
    "X = df_partidos[['posesion_local (%)', 'tiros_arco_local']]\n",
    "y = df_partidos['diferencia_goles']\n",
    "\n",
    "# División estándar: 80% entrenamiento / 20% prueba\n",
    "X_train, X_test, y_train, y_test = train_test_split(X, y, test_size=0.2, random_state=42)"
   ]
  },
  {
   "cell_type": "code",
   "execution_count": 6,
   "id": "2775f520",
   "metadata": {},
   "outputs": [
    {
     "name": "stdout",
     "output_type": "stream",
     "text": [
      "¡Modelo entrenado exitosamente!\n"
     ]
    }
   ],
   "source": [
    "# Instanciar y entrenar modelo\n",
    "modelo_rl = LinearRegression()\n",
    "modelo_rl.fit(X_train, y_train)\n",
    "\n",
    "print(\"¡Modelo entrenado exitosamente!\")"
   ]
  },
  {
   "cell_type": "code",
   "execution_count": 7,
   "id": "4550d040",
   "metadata": {},
   "outputs": [
    {
     "name": "stdout",
     "output_type": "stream",
     "text": [
      "Intercepto (β₀): -2.5257192572329776\n",
      "Coeficientes (β): [ 0.05596278 -0.05125811]\n"
     ]
    }
   ],
   "source": [
    "# Mostrar coeficientes\n",
    "print(f\"Intercepto (β₀): {modelo_rl.intercept_}\")\n",
    "print(f\"Coeficientes (β): {modelo_rl.coef_}\")\n",
    "\n"
   ]
  },
  {
   "cell_type": "code",
   "execution_count": 9,
   "id": "020333b9",
   "metadata": {},
   "outputs": [
    {
     "data": {
      "text/plain": [
       "Index(['posesion_local (%)', 'tiros_arco_local'], dtype='object')"
      ]
     },
     "execution_count": 9,
     "metadata": {},
     "output_type": "execute_result"
    }
   ],
   "source": [
    "X.columns"
   ]
  },
  {
   "cell_type": "code",
   "execution_count": 8,
   "id": "3874032e",
   "metadata": {},
   "outputs": [
    {
     "name": "stdout",
     "output_type": "stream",
     "text": [
      "Si aumentamos 1 unidad en 'posesion_local (%)', la diferencia de goles cambia en promedio 0.06\n",
      "Si aumentamos 1 unidad en 'tiros_arco_local', la diferencia de goles cambia en promedio -0.05\n"
     ]
    }
   ],
   "source": [
    "\n",
    "# Interpretación amigable\n",
    "for idx, col_name in enumerate(X.columns):\n",
    "    print(f\"Si aumentamos 1 unidad en '{col_name}', la diferencia de goles cambia en promedio {modelo_rl.coef_[idx]:.2f}\")"
   ]
  },
  {
   "cell_type": "code",
   "execution_count": 10,
   "id": "aad8e49c",
   "metadata": {},
   "outputs": [
    {
     "data": {
      "application/vnd.microsoft.datawrangler.viewer.v0+json": {
       "columns": [
        {
         "name": "index",
         "rawType": "int64",
         "type": "integer"
        },
        {
         "name": "posesion_local (%)",
         "rawType": "int64",
         "type": "integer"
        },
        {
         "name": "tiros_arco_local",
         "rawType": "int64",
         "type": "integer"
        },
        {
         "name": "Diferencia_Goles_Real",
         "rawType": "int64",
         "type": "integer"
        },
        {
         "name": "Diferencia_Goles_Predicha",
         "rawType": "float64",
         "type": "float"
        }
       ],
       "ref": "0c9ba0f3-6491-4d1b-a787-0765e1bf689e",
       "rows": [
        [
         "83",
         "47",
         "3",
         "3",
         "-0.05"
        ],
        [
         "53",
         "60",
         "3",
         "3",
         "0.68"
        ],
        [
         "70",
         "50",
         "5",
         "0",
         "0.02"
        ],
        [
         "45",
         "57",
         "7",
         "3",
         "0.31"
        ],
        [
         "44",
         "45",
         "5",
         "5",
         "-0.26"
        ],
        [
         "39",
         "60",
         "7",
         "3",
         "0.47"
        ],
        [
         "22",
         "45",
         "11",
         "0",
         "-0.57"
        ],
        [
         "80",
         "49",
         "5",
         "1",
         "-0.04"
        ],
        [
         "10",
         "48",
         "5",
         "-2",
         "-0.1"
        ],
        [
         "0",
         "54",
         "12",
         "2",
         "-0.12"
        ]
       ],
       "shape": {
        "columns": 4,
        "rows": 10
       }
      },
      "text/html": [
       "<div>\n",
       "<style scoped>\n",
       "    .dataframe tbody tr th:only-of-type {\n",
       "        vertical-align: middle;\n",
       "    }\n",
       "\n",
       "    .dataframe tbody tr th {\n",
       "        vertical-align: top;\n",
       "    }\n",
       "\n",
       "    .dataframe thead th {\n",
       "        text-align: right;\n",
       "    }\n",
       "</style>\n",
       "<table border=\"1\" class=\"dataframe\">\n",
       "  <thead>\n",
       "    <tr style=\"text-align: right;\">\n",
       "      <th></th>\n",
       "      <th>posesion_local (%)</th>\n",
       "      <th>tiros_arco_local</th>\n",
       "      <th>Diferencia_Goles_Real</th>\n",
       "      <th>Diferencia_Goles_Predicha</th>\n",
       "    </tr>\n",
       "  </thead>\n",
       "  <tbody>\n",
       "    <tr>\n",
       "      <th>83</th>\n",
       "      <td>47</td>\n",
       "      <td>3</td>\n",
       "      <td>3</td>\n",
       "      <td>-0.05</td>\n",
       "    </tr>\n",
       "    <tr>\n",
       "      <th>53</th>\n",
       "      <td>60</td>\n",
       "      <td>3</td>\n",
       "      <td>3</td>\n",
       "      <td>0.68</td>\n",
       "    </tr>\n",
       "    <tr>\n",
       "      <th>70</th>\n",
       "      <td>50</td>\n",
       "      <td>5</td>\n",
       "      <td>0</td>\n",
       "      <td>0.02</td>\n",
       "    </tr>\n",
       "    <tr>\n",
       "      <th>45</th>\n",
       "      <td>57</td>\n",
       "      <td>7</td>\n",
       "      <td>3</td>\n",
       "      <td>0.31</td>\n",
       "    </tr>\n",
       "    <tr>\n",
       "      <th>44</th>\n",
       "      <td>45</td>\n",
       "      <td>5</td>\n",
       "      <td>5</td>\n",
       "      <td>-0.26</td>\n",
       "    </tr>\n",
       "    <tr>\n",
       "      <th>39</th>\n",
       "      <td>60</td>\n",
       "      <td>7</td>\n",
       "      <td>3</td>\n",
       "      <td>0.47</td>\n",
       "    </tr>\n",
       "    <tr>\n",
       "      <th>22</th>\n",
       "      <td>45</td>\n",
       "      <td>11</td>\n",
       "      <td>0</td>\n",
       "      <td>-0.57</td>\n",
       "    </tr>\n",
       "    <tr>\n",
       "      <th>80</th>\n",
       "      <td>49</td>\n",
       "      <td>5</td>\n",
       "      <td>1</td>\n",
       "      <td>-0.04</td>\n",
       "    </tr>\n",
       "    <tr>\n",
       "      <th>10</th>\n",
       "      <td>48</td>\n",
       "      <td>5</td>\n",
       "      <td>-2</td>\n",
       "      <td>-0.10</td>\n",
       "    </tr>\n",
       "    <tr>\n",
       "      <th>0</th>\n",
       "      <td>54</td>\n",
       "      <td>12</td>\n",
       "      <td>2</td>\n",
       "      <td>-0.12</td>\n",
       "    </tr>\n",
       "  </tbody>\n",
       "</table>\n",
       "</div>"
      ],
      "text/plain": [
       "    posesion_local (%)  tiros_arco_local  Diferencia_Goles_Real  \\\n",
       "83                  47                 3                      3   \n",
       "53                  60                 3                      3   \n",
       "70                  50                 5                      0   \n",
       "45                  57                 7                      3   \n",
       "44                  45                 5                      5   \n",
       "39                  60                 7                      3   \n",
       "22                  45                11                      0   \n",
       "80                  49                 5                      1   \n",
       "10                  48                 5                     -2   \n",
       "0                   54                12                      2   \n",
       "\n",
       "    Diferencia_Goles_Predicha  \n",
       "83                      -0.05  \n",
       "53                       0.68  \n",
       "70                       0.02  \n",
       "45                       0.31  \n",
       "44                      -0.26  \n",
       "39                       0.47  \n",
       "22                      -0.57  \n",
       "80                      -0.04  \n",
       "10                      -0.10  \n",
       "0                       -0.12  "
      ]
     },
     "execution_count": 10,
     "metadata": {},
     "output_type": "execute_result"
    }
   ],
   "source": [
    "# Hacer predicciones\n",
    "y_pred = modelo_rl.predict(X_test)\n",
    "\n",
    "# Comparar predicciones vs valores reales\n",
    "df_resultados = X_test.copy()\n",
    "df_resultados['Diferencia_Goles_Real'] = y_test\n",
    "df_resultados['Diferencia_Goles_Predicha'] = y_pred.round(2)\n",
    "\n",
    "df_resultados.head(10)"
   ]
  },
  {
   "cell_type": "code",
   "execution_count": 22,
   "id": "45195d75",
   "metadata": {},
   "outputs": [
    {
     "data": {
      "image/png": "[encoded data removed]",
      "text/plain": [
       "<Figure size 1000x600 with 1 Axes>"
      ]
     },
     "metadata": {},
     "output_type": "display_data"
    }
   ],
   "source": [
    "# Crear gráfico de dispersión\n",
    "plt.figure(figsize=(10,6))\n",
    "sns.scatterplot(x=y_test, y=y_pred)\n",
    "plt.xlabel('Diferencia de goles Real')\n",
    "plt.ylabel('Diferencia de goles Predicha')\n",
    "plt.title('Predicciones vs Resultados Reales')\n",
    "plt.axline((0,0), slope=1, color='red', linestyle='--')  # Línea ideal\n",
    "plt.show()"
   ]
  },
  {
   "cell_type": "code",
   "execution_count": 23,
   "id": "8728ed10",
   "metadata": {},
   "outputs": [
    {
     "data": {
      "application/vnd.jupyter.widget-view+json": {
       "model_id": "f6f785c3f41f45ceab91881f70bb44bb",
       "version_major": 2,
       "version_minor": 0
      },
      "text/plain": [
       "interactive(children=(FloatSlider(value=30.0, description='Posesión (%)', max=70.0, min=30.0, step=1.0), IntSl…"
      ]
     },
     "execution_count": 23,
     "metadata": {},
     "output_type": "execute_result"
    }
   ],
   "source": [
    "# Widgets de entrada\n",
    "posesion_input = widgets.FloatSlider(min=30, max=70, step=1, description='Posesión (%)')\n",
    "tiros_input = widgets.IntSlider(min=1, max=15, step=1, description='Tiros al Arco')\n",
    "\n",
    "# Función de predicción\n",
    "def predecir_goles(posesion, tiros):\n",
    "    # Crear DataFrame con nombres de columnas esperados por el modelo\n",
    "    entrada = pd.DataFrame([[posesion, tiros]], columns=['posesion_local (%)', 'tiros_arco_local'])\n",
    "    pred = modelo_rl.predict(entrada)[0]\n",
    "    print(f\"Diferencia de goles predicha: {pred:.2f}\")\n",
    "\n",
    "\n",
    "# Mostrar widget interactivo\n",
    "widgets.interactive(predecir_goles, posesion=posesion_input, tiros=tiros_input)"
   ]
  },
  {
   "cell_type": "code",
   "execution_count": null,
   "id": "638a3e29",
   "metadata": {},
   "outputs": [],
   "source": []
  }
 ],
 "metadata": {
  "kernelspec": {
   "display_name": "ml-py3.12",
   "language": "python",
   "name": "python3"
  },
  "language_info": {
   "codemirror_mode": {
    "name": "ipython",
    "version": 3
   },
   "file_extension": ".py",
   "mimetype": "text/x-python",
   "name": "python",
   "nbconvert_exporter": "python",
   "pygments_lexer": "ipython3",
   "version": "3.12.11"
  }
 },
 "nbformat": 4,
 "nbformat_minor": 5
}
