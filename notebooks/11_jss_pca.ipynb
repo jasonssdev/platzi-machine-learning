{
 "cells": [
  {
   "cell_type": "code",
   "execution_count": 1,
   "id": "19967b6e",
   "metadata": {},
   "outputs": [],
   "source": [
    "import pandas as pd\n",
    "import matplotlib.pyplot as plt\n",
    "import seaborn as sns\n",
    "import numpy as np\n",
    "from pathlib import Path\n",
    "from utils.paths import DATA_RAW_DIR\n",
    "\n",
    "from sklearn.model_selection import train_test_split\n",
    "from sklearn.linear_model import LinearRegression\n",
    "from sklearn.metrics import mean_squared_error, mean_absolute_error, r2_score\n",
    "from sklearn.preprocessing import StandardScaler\n",
    "from sklearn.ensemble import RandomForestRegressor\n",
    "from sklearn.cluster import KMeans\n",
    "from sklearn.decomposition import PCA\n",
    "\n",
    "import ipywidgets as widgets\n",
    "from IPython.display import display"
   ]
  },
  {
   "cell_type": "code",
   "execution_count": 2,
   "id": "4c0ba5d8",
   "metadata": {},
   "outputs": [
    {
     "name": "stdout",
     "output_type": "stream",
     "text": [
      "Path: /Users/jssdev/Dev/Learning/Platzi/platzi-machine-learning/data/raw/jugadores_cebollitas.csv\n",
      "Does path exist? True\n"
     ]
    },
    {
     "data": {
      "application/vnd.microsoft.datawrangler.viewer.v0+json": {
       "columns": [
        {
         "name": "index",
         "rawType": "int64",
         "type": "integer"
        },
        {
         "name": "jugador_id",
         "rawType": "int64",
         "type": "integer"
        },
        {
         "name": "nombre",
         "rawType": "object",
         "type": "string"
        },
        {
         "name": "posición",
         "rawType": "object",
         "type": "string"
        },
        {
         "name": "edad",
         "rawType": "int64",
         "type": "integer"
        },
        {
         "name": "partidos_jugados",
         "rawType": "int64",
         "type": "integer"
        },
        {
         "name": "goles",
         "rawType": "int64",
         "type": "integer"
        },
        {
         "name": "asistencias",
         "rawType": "int64",
         "type": "integer"
        },
        {
         "name": "pases_completados (%)",
         "rawType": "float64",
         "type": "float"
        },
        {
         "name": "tiros_al_arco",
         "rawType": "int64",
         "type": "integer"
        },
        {
         "name": "precisión_tiros (%)",
         "rawType": "float64",
         "type": "float"
        },
        {
         "name": "minutos_jugados",
         "rawType": "int64",
         "type": "integer"
        }
       ],
       "ref": "93a7e973-634f-4a75-b6bf-961f12802309",
       "rows": [
        [
         "0",
         "1",
         "Tara Alvarez",
         "Portero",
         "18",
         "25",
         "2",
         "5",
         "89.0",
         "8",
         "78.2",
         "2125"
        ],
        [
         "1",
         "2",
         "Carol Mcclain",
         "Mediocampista",
         "32",
         "12",
         "2",
         "8",
         "77.5",
         "49",
         "68.5",
         "1032"
        ],
        [
         "2",
         "3",
         "Robert Martin",
         "Defensa",
         "26",
         "12",
         "4",
         "5",
         "87.3",
         "1",
         "71.4",
         "816"
        ],
        [
         "3",
         "4",
         "Mr. Robert Turner",
         "Defensa",
         "25",
         "17",
         "2",
         "4",
         "75.9",
         "9",
         "35.8",
         "1496"
        ],
        [
         "4",
         "5",
         "Christopher Kennedy",
         "Defensa",
         "35",
         "23",
         "1",
         "7",
         "83.5",
         "0",
         "0.0",
         "2047"
        ]
       ],
       "shape": {
        "columns": 11,
        "rows": 5
       }
      },
      "text/html": [
       "<div>\n",
       "<style scoped>\n",
       "    .dataframe tbody tr th:only-of-type {\n",
       "        vertical-align: middle;\n",
       "    }\n",
       "\n",
       "    .dataframe tbody tr th {\n",
       "        vertical-align: top;\n",
       "    }\n",
       "\n",
       "    .dataframe thead th {\n",
       "        text-align: right;\n",
       "    }\n",
       "</style>\n",
       "<table border=\"1\" class=\"dataframe\">\n",
       "  <thead>\n",
       "    <tr style=\"text-align: right;\">\n",
       "      <th></th>\n",
       "      <th>jugador_id</th>\n",
       "      <th>nombre</th>\n",
       "      <th>posición</th>\n",
       "      <th>edad</th>\n",
       "      <th>partidos_jugados</th>\n",
       "      <th>goles</th>\n",
       "      <th>asistencias</th>\n",
       "      <th>pases_completados (%)</th>\n",
       "      <th>tiros_al_arco</th>\n",
       "      <th>precisión_tiros (%)</th>\n",
       "      <th>minutos_jugados</th>\n",
       "    </tr>\n",
       "  </thead>\n",
       "  <tbody>\n",
       "    <tr>\n",
       "      <th>0</th>\n",
       "      <td>1</td>\n",
       "      <td>Tara Alvarez</td>\n",
       "      <td>Portero</td>\n",
       "      <td>18</td>\n",
       "      <td>25</td>\n",
       "      <td>2</td>\n",
       "      <td>5</td>\n",
       "      <td>89.0</td>\n",
       "      <td>8</td>\n",
       "      <td>78.2</td>\n",
       "      <td>2125</td>\n",
       "    </tr>\n",
       "    <tr>\n",
       "      <th>1</th>\n",
       "      <td>2</td>\n",
       "      <td>Carol Mcclain</td>\n",
       "      <td>Mediocampista</td>\n",
       "      <td>32</td>\n",
       "      <td>12</td>\n",
       "      <td>2</td>\n",
       "      <td>8</td>\n",
       "      <td>77.5</td>\n",
       "      <td>49</td>\n",
       "      <td>68.5</td>\n",
       "      <td>1032</td>\n",
       "    </tr>\n",
       "    <tr>\n",
       "      <th>2</th>\n",
       "      <td>3</td>\n",
       "      <td>Robert Martin</td>\n",
       "      <td>Defensa</td>\n",
       "      <td>26</td>\n",
       "      <td>12</td>\n",
       "      <td>4</td>\n",
       "      <td>5</td>\n",
       "      <td>87.3</td>\n",
       "      <td>1</td>\n",
       "      <td>71.4</td>\n",
       "      <td>816</td>\n",
       "    </tr>\n",
       "    <tr>\n",
       "      <th>3</th>\n",
       "      <td>4</td>\n",
       "      <td>Mr. Robert Turner</td>\n",
       "      <td>Defensa</td>\n",
       "      <td>25</td>\n",
       "      <td>17</td>\n",
       "      <td>2</td>\n",
       "      <td>4</td>\n",
       "      <td>75.9</td>\n",
       "      <td>9</td>\n",
       "      <td>35.8</td>\n",
       "      <td>1496</td>\n",
       "    </tr>\n",
       "    <tr>\n",
       "      <th>4</th>\n",
       "      <td>5</td>\n",
       "      <td>Christopher Kennedy</td>\n",
       "      <td>Defensa</td>\n",
       "      <td>35</td>\n",
       "      <td>23</td>\n",
       "      <td>1</td>\n",
       "      <td>7</td>\n",
       "      <td>83.5</td>\n",
       "      <td>0</td>\n",
       "      <td>0.0</td>\n",
       "      <td>2047</td>\n",
       "    </tr>\n",
       "  </tbody>\n",
       "</table>\n",
       "</div>"
      ],
      "text/plain": [
       "   jugador_id               nombre       posición  edad  partidos_jugados  \\\n",
       "0           1         Tara Alvarez        Portero    18                25   \n",
       "1           2        Carol Mcclain  Mediocampista    32                12   \n",
       "2           3        Robert Martin        Defensa    26                12   \n",
       "3           4    Mr. Robert Turner        Defensa    25                17   \n",
       "4           5  Christopher Kennedy        Defensa    35                23   \n",
       "\n",
       "   goles  asistencias  pases_completados (%)  tiros_al_arco  \\\n",
       "0      2            5                   89.0              8   \n",
       "1      2            8                   77.5             49   \n",
       "2      4            5                   87.3              1   \n",
       "3      2            4                   75.9              9   \n",
       "4      1            7                   83.5              0   \n",
       "\n",
       "   precisión_tiros (%)  minutos_jugados  \n",
       "0                 78.2             2125  \n",
       "1                 68.5             1032  \n",
       "2                 71.4              816  \n",
       "3                 35.8             1496  \n",
       "4                  0.0             2047  "
      ]
     },
     "execution_count": 2,
     "metadata": {},
     "output_type": "execute_result"
    }
   ],
   "source": [
    "path_jugadores = str(DATA_RAW_DIR / 'jugadores_cebollitas.csv')\n",
    "\n",
    "print('Path:', path_jugadores)\n",
    "print('Does path exist?', Path(path_jugadores).exists())\n",
    "\n",
    "df_jugadores = pd.read_csv(path_jugadores, sep=',', encoding='utf-8')\n",
    "df_jugadores.head()"
   ]
  },
  {
   "cell_type": "code",
   "execution_count": 3,
   "id": "183b639d",
   "metadata": {},
   "outputs": [],
   "source": [
    "X = df_jugadores[['goles', 'asistencias', 'pases_completados (%)', 'tiros_al_arco']]"
   ]
  },
  {
   "cell_type": "code",
   "execution_count": 4,
   "id": "f481a81e",
   "metadata": {},
   "outputs": [],
   "source": [
    "scaler = StandardScaler()\n",
    "X_scaled = scaler.fit_transform(X)"
   ]
  },
  {
   "cell_type": "code",
   "execution_count": 8,
   "id": "5a35f967",
   "metadata": {},
   "outputs": [],
   "source": [
    "pca = PCA(n_components=2)\n",
    "componentes = pca.fit_transform(X_scaled)\n"
   ]
  },
  {
   "cell_type": "code",
   "execution_count": 10,
   "id": "d8a57cef",
   "metadata": {},
   "outputs": [],
   "source": [
    "df_jugadores['PC1'] = componentes[:,0]\n",
    "df_jugadores['PC2'] = componentes[:,1]"
   ]
  },
  {
   "cell_type": "code",
   "execution_count": 11,
   "id": "b5a5b6e4",
   "metadata": {},
   "outputs": [
    {
     "data": {
      "text/plain": [
       "<Axes: xlabel='PC1', ylabel='PC2'>"
      ]
     },
     "execution_count": 11,
     "metadata": {},
     "output_type": "execute_result"
    },
    {
     "data": {
      "image/png": "[encoded data removed]",
      "text/plain": [
       "<Figure size 640x480 with 1 Axes>"
      ]
     },
     "metadata": {},
     "output_type": "display_data"
    }
   ],
   "source": [
    "sns.scatterplot(x='PC1', y='PC2', data=df_jugadores, hue='goles', palette='coolwarm', s=100)"
   ]
  },
  {
   "cell_type": "code",
   "execution_count": 12,
   "id": "93109a29",
   "metadata": {},
   "outputs": [],
   "source": [
    "kmeans = KMeans(n_clusters=3, random_state=42)\n",
    "df_jugadores['cluster'] = kmeans.fit_predict(X_scaled)"
   ]
  },
  {
   "cell_type": "code",
   "execution_count": 13,
   "id": "5c339914",
   "metadata": {},
   "outputs": [
    {
     "data": {
      "text/plain": [
       "<Axes: xlabel='PC1', ylabel='PC2'>"
      ]
     },
     "execution_count": 13,
     "metadata": {},
     "output_type": "execute_result"
    },
    {
     "data": {
      "image/png": "[encoded data removed]",
      "text/plain": [
       "<Figure size 640x480 with 1 Axes>"
      ]
     },
     "metadata": {},
     "output_type": "display_data"
    }
   ],
   "source": [
    "sns.scatterplot(x='PC1', y='PC2', hue='cluster', palette='Set1', data=df_jugadores, s=100)"
   ]
  },
  {
   "cell_type": "code",
   "execution_count": 14,
   "id": "245cc6b8",
   "metadata": {},
   "outputs": [
    {
     "name": "stdout",
     "output_type": "stream",
     "text": [
      "Varianza explicada por PC1: 38.65%\n",
      "Varianza explicada por PC2: 28.39%\n",
      "Varianza total explicada: 67.04%\n"
     ]
    }
   ],
   "source": [
    "varianza = pca.explained_variance_ratio_\n",
    "\n",
    "print(f\"Varianza explicada por PC1: {varianza[0]:.2%}\")\n",
    "print(f\"Varianza explicada por PC2: {varianza[1]:.2%}\")\n",
    "print(f\"Varianza total explicada: {varianza.sum():.2%}\")"
   ]
  },
  {
   "cell_type": "code",
   "execution_count": null,
   "id": "aeaa1a39",
   "metadata": {},
   "outputs": [
    {
     "data": {
      "application/vnd.jupyter.widget-view+json": {
       "model_id": "ccab38d7586b4f01947033b9a7fc558c",
       "version_major": 2,
       "version_minor": 0
      },
      "text/plain": [
       "interactive(children=(Dropdown(description='eje_x', options=('PC1', 'PC2'), value='PC1'), Dropdown(description…"
      ]
     },
     "execution_count": 15,
     "metadata": {},
     "output_type": "execute_result"
    }
   ],
   "source": [
    "\n",
    "def explorar_componentes(eje_x, eje_y):\n",
    "    plt.figure(figsize=(10,6))\n",
    "    sns.scatterplot(x=eje_x, y=eje_y, hue='cluster', data=df_jugadores, palette='Set2', s=100)\n",
    "    plt.title(f'Clusters en espacio {eje_x} vs {eje_y}')\n",
    "    plt.grid(True)\n",
    "    plt.show()\n",
    "\n",
    "widgets.interactive(\n",
    "    explorar_componentes,\n",
    "    eje_x=['PC1', 'PC2'],\n",
    "    eje_y=['PC1', 'PC2'])"
   ]
  },
  {
   "cell_type": "code",
   "execution_count": null,
   "id": "7071ecc0",
   "metadata": {},
   "outputs": [],
   "source": []
  }
 ],
 "metadata": {
  "kernelspec": {
   "display_name": "ml-py3.12",
   "language": "python",
   "name": "python3"
  },
  "language_info": {
   "codemirror_mode": {
    "name": "ipython",
    "version": 3
   },
   "file_extension": ".py",
   "mimetype": "text/x-python",
   "name": "python",
   "nbconvert_exporter": "python",
   "pygments_lexer": "ipython3",
   "version": "3.12.11"
  }
 },
 "nbformat": 4,
 "nbformat_minor": 5
}
