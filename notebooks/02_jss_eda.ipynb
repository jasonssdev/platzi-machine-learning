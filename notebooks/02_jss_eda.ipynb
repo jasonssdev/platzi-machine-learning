{
 "cells": [
  {
   "cell_type": "code",
   "execution_count": 4,
   "id": "fcc1f9d9",
   "metadata": {},
   "outputs": [],
   "source": [
    "import pandas as pd\n",
    "import matplotlib.pyplot as plt\n",
    "import seaborn as sns\n",
    "from pathlib import Path\n",
    "from utils.paths import DATA_RAW_DIR, DATA_PROCESSED_DIR"
   ]
  },
  {
   "cell_type": "code",
   "execution_count": 18,
   "id": "5eea830f",
   "metadata": {},
   "outputs": [
    {
     "name": "stdout",
     "output_type": "stream",
     "text": [
      "Path: /Users/jssdev/Dev/Learning/Platzi/platzi-machine-learning/data/raw/partidos_cebollitas.csv\n",
      "Does path exist? True\n"
     ]
    }
   ],
   "source": [
    "path_partidos = str(DATA_RAW_DIR / 'partidos_cebollitas.csv')\n",
    "\n",
    "print('Path:', path_partidos)\n",
    "print('Does path exist?', Path(path_partidos).exists())"
   ]
  },
  {
   "cell_type": "code",
   "execution_count": 19,
   "id": "ef1d7bfe",
   "metadata": {},
   "outputs": [
    {
     "data": {
      "application/vnd.microsoft.datawrangler.viewer.v0+json": {
       "columns": [
        {
         "name": "index",
         "rawType": "int64",
         "type": "integer"
        },
        {
         "name": "fecha_partido",
         "rawType": "object",
         "type": "string"
        },
        {
         "name": "equipo_local",
         "rawType": "object",
         "type": "string"
        },
        {
         "name": "equipo_visitante",
         "rawType": "object",
         "type": "string"
        },
        {
         "name": "goles_local",
         "rawType": "int64",
         "type": "integer"
        },
        {
         "name": "goles_visitante",
         "rawType": "int64",
         "type": "integer"
        },
        {
         "name": "posesion_local (%)",
         "rawType": "int64",
         "type": "integer"
        },
        {
         "name": "posesion_visitante (%)",
         "rawType": "int64",
         "type": "integer"
        },
        {
         "name": "tiros_arco_local",
         "rawType": "int64",
         "type": "integer"
        },
        {
         "name": "tiros_arco_visitante",
         "rawType": "int64",
         "type": "integer"
        },
        {
         "name": "estadio",
         "rawType": "object",
         "type": "string"
        }
       ],
       "ref": "26d3e230-d34f-4200-b52e-100302239f11",
       "rows": [
        [
         "0",
         "2023-01-01",
         "Atlético Python",
         "Cebollitas FC",
         "2",
         "0",
         "54",
         "46",
         "12",
         "6",
         "Python Arena"
        ],
        [
         "1",
         "2023-01-08",
         "NumPy City",
         "Atlético Python",
         "1",
         "5",
         "60",
         "40",
         "12",
         "3",
         "Estadio ML"
        ],
        [
         "2",
         "2023-01-15",
         "Cebollitas FC",
         "Data United",
         "1",
         "0",
         "55",
         "45",
         "10",
         "7",
         "Python Arena"
        ],
        [
         "3",
         "2023-01-22",
         "Atlético Python",
         "Data United",
         "2",
         "3",
         "57",
         "43",
         "3",
         "3",
         "Campo Pandas"
        ],
        [
         "4",
         "2023-01-29",
         "Data United",
         "Cebollitas FC",
         "5",
         "3",
         "52",
         "48",
         "7",
         "12",
         "Estadio ML"
        ]
       ],
       "shape": {
        "columns": 10,
        "rows": 5
       }
      },
      "text/html": [
       "<div>\n",
       "<style scoped>\n",
       "    .dataframe tbody tr th:only-of-type {\n",
       "        vertical-align: middle;\n",
       "    }\n",
       "\n",
       "    .dataframe tbody tr th {\n",
       "        vertical-align: top;\n",
       "    }\n",
       "\n",
       "    .dataframe thead th {\n",
       "        text-align: right;\n",
       "    }\n",
       "</style>\n",
       "<table border=\"1\" class=\"dataframe\">\n",
       "  <thead>\n",
       "    <tr style=\"text-align: right;\">\n",
       "      <th></th>\n",
       "      <th>fecha_partido</th>\n",
       "      <th>equipo_local</th>\n",
       "      <th>equipo_visitante</th>\n",
       "      <th>goles_local</th>\n",
       "      <th>goles_visitante</th>\n",
       "      <th>posesion_local (%)</th>\n",
       "      <th>posesion_visitante (%)</th>\n",
       "      <th>tiros_arco_local</th>\n",
       "      <th>tiros_arco_visitante</th>\n",
       "      <th>estadio</th>\n",
       "    </tr>\n",
       "  </thead>\n",
       "  <tbody>\n",
       "    <tr>\n",
       "      <th>0</th>\n",
       "      <td>2023-01-01</td>\n",
       "      <td>Atlético Python</td>\n",
       "      <td>Cebollitas FC</td>\n",
       "      <td>2</td>\n",
       "      <td>0</td>\n",
       "      <td>54</td>\n",
       "      <td>46</td>\n",
       "      <td>12</td>\n",
       "      <td>6</td>\n",
       "      <td>Python Arena</td>\n",
       "    </tr>\n",
       "    <tr>\n",
       "      <th>1</th>\n",
       "      <td>2023-01-08</td>\n",
       "      <td>NumPy City</td>\n",
       "      <td>Atlético Python</td>\n",
       "      <td>1</td>\n",
       "      <td>5</td>\n",
       "      <td>60</td>\n",
       "      <td>40</td>\n",
       "      <td>12</td>\n",
       "      <td>3</td>\n",
       "      <td>Estadio ML</td>\n",
       "    </tr>\n",
       "    <tr>\n",
       "      <th>2</th>\n",
       "      <td>2023-01-15</td>\n",
       "      <td>Cebollitas FC</td>\n",
       "      <td>Data United</td>\n",
       "      <td>1</td>\n",
       "      <td>0</td>\n",
       "      <td>55</td>\n",
       "      <td>45</td>\n",
       "      <td>10</td>\n",
       "      <td>7</td>\n",
       "      <td>Python Arena</td>\n",
       "    </tr>\n",
       "    <tr>\n",
       "      <th>3</th>\n",
       "      <td>2023-01-22</td>\n",
       "      <td>Atlético Python</td>\n",
       "      <td>Data United</td>\n",
       "      <td>2</td>\n",
       "      <td>3</td>\n",
       "      <td>57</td>\n",
       "      <td>43</td>\n",
       "      <td>3</td>\n",
       "      <td>3</td>\n",
       "      <td>Campo Pandas</td>\n",
       "    </tr>\n",
       "    <tr>\n",
       "      <th>4</th>\n",
       "      <td>2023-01-29</td>\n",
       "      <td>Data United</td>\n",
       "      <td>Cebollitas FC</td>\n",
       "      <td>5</td>\n",
       "      <td>3</td>\n",
       "      <td>52</td>\n",
       "      <td>48</td>\n",
       "      <td>7</td>\n",
       "      <td>12</td>\n",
       "      <td>Estadio ML</td>\n",
       "    </tr>\n",
       "  </tbody>\n",
       "</table>\n",
       "</div>"
      ],
      "text/plain": [
       "  fecha_partido     equipo_local equipo_visitante  goles_local  \\\n",
       "0    2023-01-01  Atlético Python    Cebollitas FC            2   \n",
       "1    2023-01-08       NumPy City  Atlético Python            1   \n",
       "2    2023-01-15    Cebollitas FC      Data United            1   \n",
       "3    2023-01-22  Atlético Python      Data United            2   \n",
       "4    2023-01-29      Data United    Cebollitas FC            5   \n",
       "\n",
       "   goles_visitante  posesion_local (%)  posesion_visitante (%)  \\\n",
       "0                0                  54                      46   \n",
       "1                5                  60                      40   \n",
       "2                0                  55                      45   \n",
       "3                3                  57                      43   \n",
       "4                3                  52                      48   \n",
       "\n",
       "   tiros_arco_local  tiros_arco_visitante       estadio  \n",
       "0                12                     6  Python Arena  \n",
       "1                12                     3    Estadio ML  \n",
       "2                10                     7  Python Arena  \n",
       "3                 3                     3  Campo Pandas  \n",
       "4                 7                    12    Estadio ML  "
      ]
     },
     "execution_count": 19,
     "metadata": {},
     "output_type": "execute_result"
    }
   ],
   "source": [
    "df_partidos = pd.read_csv(path_partidos, sep=',', encoding='utf-8')\n",
    "df_partidos.head()"
   ]
  },
  {
   "cell_type": "code",
   "execution_count": 20,
   "id": "77486cf5",
   "metadata": {},
   "outputs": [
    {
     "name": "stdout",
     "output_type": "stream",
     "text": [
      "<class 'pandas.core.frame.DataFrame'>\n",
      "RangeIndex: 100 entries, 0 to 99\n",
      "Data columns (total 10 columns):\n",
      " #   Column                  Non-Null Count  Dtype \n",
      "---  ------                  --------------  ----- \n",
      " 0   fecha_partido           100 non-null    object\n",
      " 1   equipo_local            100 non-null    object\n",
      " 2   equipo_visitante        100 non-null    object\n",
      " 3   goles_local             100 non-null    int64 \n",
      " 4   goles_visitante         100 non-null    int64 \n",
      " 5   posesion_local (%)      100 non-null    int64 \n",
      " 6   posesion_visitante (%)  100 non-null    int64 \n",
      " 7   tiros_arco_local        100 non-null    int64 \n",
      " 8   tiros_arco_visitante    100 non-null    int64 \n",
      " 9   estadio                 100 non-null    object\n",
      "dtypes: int64(6), object(4)\n",
      "memory usage: 7.9+ KB\n"
     ]
    }
   ],
   "source": [
    "df_partidos.info()"
   ]
  },
  {
   "cell_type": "code",
   "execution_count": 21,
   "id": "d8f26b44",
   "metadata": {},
   "outputs": [
    {
     "name": "stdout",
     "output_type": "stream",
     "text": [
      "<class 'pandas.core.frame.DataFrame'>\n",
      "RangeIndex: 100 entries, 0 to 99\n",
      "Data columns (total 10 columns):\n",
      " #   Column                  Non-Null Count  Dtype         \n",
      "---  ------                  --------------  -----         \n",
      " 0   fecha_partido           100 non-null    datetime64[ns]\n",
      " 1   equipo_local            100 non-null    object        \n",
      " 2   equipo_visitante        100 non-null    object        \n",
      " 3   goles_local             100 non-null    int64         \n",
      " 4   goles_visitante         100 non-null    int64         \n",
      " 5   posesion_local (%)      100 non-null    int64         \n",
      " 6   posesion_visitante (%)  100 non-null    int64         \n",
      " 7   tiros_arco_local        100 non-null    int64         \n",
      " 8   tiros_arco_visitante    100 non-null    int64         \n",
      " 9   estadio                 100 non-null    object        \n",
      "dtypes: datetime64[ns](1), int64(6), object(3)\n",
      "memory usage: 7.9+ KB\n"
     ]
    }
   ],
   "source": [
    "df_partidos['fecha_partido'] = pd.to_datetime(\n",
    "    df_partidos['fecha_partido'], format=r'%Y-%m-%d', errors='coerce')\n",
    "\n",
    "\n",
    "\n",
    "df_partidos.info()"
   ]
  },
  {
   "cell_type": "code",
   "execution_count": 22,
   "id": "e153d6de",
   "metadata": {},
   "outputs": [
    {
     "data": {
      "text/plain": [
       "array(['Python Arena', 'Estadio ML', 'Campo Pandas', 'Estadio DataCamp'],\n",
       "      dtype=object)"
      ]
     },
     "execution_count": 22,
     "metadata": {},
     "output_type": "execute_result"
    }
   ],
   "source": [
    "df_partidos['estadio'].unique()"
   ]
  },
  {
   "cell_type": "code",
   "execution_count": 23,
   "id": "eead8ea6",
   "metadata": {},
   "outputs": [
    {
     "data": {
      "text/plain": [
       "4"
      ]
     },
     "execution_count": 23,
     "metadata": {},
     "output_type": "execute_result"
    }
   ],
   "source": [
    "df_partidos['estadio'].nunique()"
   ]
  },
  {
   "cell_type": "code",
   "execution_count": 24,
   "id": "5a664434",
   "metadata": {},
   "outputs": [],
   "source": [
    "df_partidos['estadio'] = df_partidos['estadio'].astype('category')"
   ]
  },
  {
   "cell_type": "code",
   "execution_count": 25,
   "id": "7d6fcd3f",
   "metadata": {},
   "outputs": [
    {
     "name": "stdout",
     "output_type": "stream",
     "text": [
      "<class 'pandas.core.frame.DataFrame'>\n",
      "RangeIndex: 100 entries, 0 to 99\n",
      "Data columns (total 10 columns):\n",
      " #   Column                  Non-Null Count  Dtype         \n",
      "---  ------                  --------------  -----         \n",
      " 0   fecha_partido           100 non-null    datetime64[ns]\n",
      " 1   equipo_local            100 non-null    object        \n",
      " 2   equipo_visitante        100 non-null    object        \n",
      " 3   goles_local             100 non-null    int64         \n",
      " 4   goles_visitante         100 non-null    int64         \n",
      " 5   posesion_local (%)      100 non-null    int64         \n",
      " 6   posesion_visitante (%)  100 non-null    int64         \n",
      " 7   tiros_arco_local        100 non-null    int64         \n",
      " 8   tiros_arco_visitante    100 non-null    int64         \n",
      " 9   estadio                 100 non-null    category      \n",
      "dtypes: category(1), datetime64[ns](1), int64(6), object(2)\n",
      "memory usage: 7.5+ KB\n"
     ]
    }
   ],
   "source": [
    "df_partidos.info()"
   ]
  },
  {
   "cell_type": "code",
   "execution_count": 26,
   "id": "114b8c8a",
   "metadata": {},
   "outputs": [
    {
     "data": {
      "application/vnd.microsoft.datawrangler.viewer.v0+json": {
       "columns": [
        {
         "name": "index",
         "rawType": "object",
         "type": "string"
        },
        {
         "name": "goles_local",
         "rawType": "float64",
         "type": "float"
        },
        {
         "name": "goles_visitante",
         "rawType": "float64",
         "type": "float"
        },
        {
         "name": "posesion_local (%)",
         "rawType": "float64",
         "type": "float"
        },
        {
         "name": "posesion_visitante (%)",
         "rawType": "float64",
         "type": "float"
        },
        {
         "name": "tiros_arco_local",
         "rawType": "float64",
         "type": "float"
        },
        {
         "name": "tiros_arco_visitante",
         "rawType": "float64",
         "type": "float"
        }
       ],
       "ref": "ee08e213-ef6d-4a72-9144-928138950d9e",
       "rows": [
        [
         "count",
         "100.0",
         "100.0",
         "100.0",
         "100.0",
         "100.0",
         "100.0"
        ],
        [
         "mean",
         "2.63",
         "2.54",
         "50.25",
         "49.75",
         "7.58",
         "7.87"
        ],
        [
         "std",
         "1.5869098362171767",
         "1.7889673111613975",
         "6.035877581745523",
         "6.035877581745523",
         "2.899599415035941",
         "2.9666666666666663"
        ],
        [
         "min",
         "0.0",
         "0.0",
         "40.0",
         "40.0",
         "3.0",
         "3.0"
        ],
        [
         "25%",
         "1.0",
         "1.0",
         "45.0",
         "44.75",
         "5.0",
         "5.0"
        ],
        [
         "50%",
         "3.0",
         "3.0",
         "51.0",
         "49.0",
         "7.5",
         "8.0"
        ],
        [
         "75%",
         "4.0",
         "4.0",
         "55.25",
         "55.0",
         "10.0",
         "11.0"
        ],
        [
         "max",
         "5.0",
         "5.0",
         "60.0",
         "60.0",
         "12.0",
         "12.0"
        ]
       ],
       "shape": {
        "columns": 6,
        "rows": 8
       }
      },
      "text/html": [
       "<div>\n",
       "<style scoped>\n",
       "    .dataframe tbody tr th:only-of-type {\n",
       "        vertical-align: middle;\n",
       "    }\n",
       "\n",
       "    .dataframe tbody tr th {\n",
       "        vertical-align: top;\n",
       "    }\n",
       "\n",
       "    .dataframe thead th {\n",
       "        text-align: right;\n",
       "    }\n",
       "</style>\n",
       "<table border=\"1\" class=\"dataframe\">\n",
       "  <thead>\n",
       "    <tr style=\"text-align: right;\">\n",
       "      <th></th>\n",
       "      <th>goles_local</th>\n",
       "      <th>goles_visitante</th>\n",
       "      <th>posesion_local (%)</th>\n",
       "      <th>posesion_visitante (%)</th>\n",
       "      <th>tiros_arco_local</th>\n",
       "      <th>tiros_arco_visitante</th>\n",
       "    </tr>\n",
       "  </thead>\n",
       "  <tbody>\n",
       "    <tr>\n",
       "      <th>count</th>\n",
       "      <td>100.00000</td>\n",
       "      <td>100.000000</td>\n",
       "      <td>100.000000</td>\n",
       "      <td>100.000000</td>\n",
       "      <td>100.000000</td>\n",
       "      <td>100.000000</td>\n",
       "    </tr>\n",
       "    <tr>\n",
       "      <th>mean</th>\n",
       "      <td>2.63000</td>\n",
       "      <td>2.540000</td>\n",
       "      <td>50.250000</td>\n",
       "      <td>49.750000</td>\n",
       "      <td>7.580000</td>\n",
       "      <td>7.870000</td>\n",
       "    </tr>\n",
       "    <tr>\n",
       "      <th>std</th>\n",
       "      <td>1.58691</td>\n",
       "      <td>1.788967</td>\n",
       "      <td>6.035878</td>\n",
       "      <td>6.035878</td>\n",
       "      <td>2.899599</td>\n",
       "      <td>2.966667</td>\n",
       "    </tr>\n",
       "    <tr>\n",
       "      <th>min</th>\n",
       "      <td>0.00000</td>\n",
       "      <td>0.000000</td>\n",
       "      <td>40.000000</td>\n",
       "      <td>40.000000</td>\n",
       "      <td>3.000000</td>\n",
       "      <td>3.000000</td>\n",
       "    </tr>\n",
       "    <tr>\n",
       "      <th>25%</th>\n",
       "      <td>1.00000</td>\n",
       "      <td>1.000000</td>\n",
       "      <td>45.000000</td>\n",
       "      <td>44.750000</td>\n",
       "      <td>5.000000</td>\n",
       "      <td>5.000000</td>\n",
       "    </tr>\n",
       "    <tr>\n",
       "      <th>50%</th>\n",
       "      <td>3.00000</td>\n",
       "      <td>3.000000</td>\n",
       "      <td>51.000000</td>\n",
       "      <td>49.000000</td>\n",
       "      <td>7.500000</td>\n",
       "      <td>8.000000</td>\n",
       "    </tr>\n",
       "    <tr>\n",
       "      <th>75%</th>\n",
       "      <td>4.00000</td>\n",
       "      <td>4.000000</td>\n",
       "      <td>55.250000</td>\n",
       "      <td>55.000000</td>\n",
       "      <td>10.000000</td>\n",
       "      <td>11.000000</td>\n",
       "    </tr>\n",
       "    <tr>\n",
       "      <th>max</th>\n",
       "      <td>5.00000</td>\n",
       "      <td>5.000000</td>\n",
       "      <td>60.000000</td>\n",
       "      <td>60.000000</td>\n",
       "      <td>12.000000</td>\n",
       "      <td>12.000000</td>\n",
       "    </tr>\n",
       "  </tbody>\n",
       "</table>\n",
       "</div>"
      ],
      "text/plain": [
       "       goles_local  goles_visitante  posesion_local (%)  \\\n",
       "count    100.00000       100.000000          100.000000   \n",
       "mean       2.63000         2.540000           50.250000   \n",
       "std        1.58691         1.788967            6.035878   \n",
       "min        0.00000         0.000000           40.000000   \n",
       "25%        1.00000         1.000000           45.000000   \n",
       "50%        3.00000         3.000000           51.000000   \n",
       "75%        4.00000         4.000000           55.250000   \n",
       "max        5.00000         5.000000           60.000000   \n",
       "\n",
       "       posesion_visitante (%)  tiros_arco_local  tiros_arco_visitante  \n",
       "count              100.000000        100.000000            100.000000  \n",
       "mean                49.750000          7.580000              7.870000  \n",
       "std                  6.035878          2.899599              2.966667  \n",
       "min                 40.000000          3.000000              3.000000  \n",
       "25%                 44.750000          5.000000              5.000000  \n",
       "50%                 49.000000          7.500000              8.000000  \n",
       "75%                 55.000000         10.000000             11.000000  \n",
       "max                 60.000000         12.000000             12.000000  "
      ]
     },
     "execution_count": 26,
     "metadata": {},
     "output_type": "execute_result"
    }
   ],
   "source": [
    "# Estadísticas descriptivas generales\n",
    "df_partidos.describe(include=['int64'])"
   ]
  },
  {
   "cell_type": "code",
   "execution_count": 30,
   "id": "efc67819",
   "metadata": {},
   "outputs": [
    {
     "data": {
      "text/plain": [
       "np.float64(2.230769230769231)"
      ]
     },
     "execution_count": 30,
     "metadata": {},
     "output_type": "execute_result"
    }
   ],
   "source": [
    "promedio_goles_local_cebollitas = df_partidos[df_partidos['equipo_local'] ==\n",
    "                                    'Cebollitas FC']['goles_local'].mean()\n",
    "promedio_goles_local_cebollitas"
   ]
  },
  {
   "cell_type": "code",
   "execution_count": 31,
   "id": "aee0bd9e",
   "metadata": {},
   "outputs": [
    {
     "data": {
      "text/plain": [
       "np.float64(2.611111111111111)"
      ]
     },
     "execution_count": 31,
     "metadata": {},
     "output_type": "execute_result"
    }
   ],
   "source": [
    "promedio_goles_visitante_cebollitas = df_partidos[df_partidos['equipo_visitante'] ==\n",
    "                                    'Cebollitas FC']['goles_visitante'].mean()\n",
    "promedio_goles_visitante_cebollitas"
   ]
  },
  {
   "cell_type": "markdown",
   "id": "71dd8b58",
   "metadata": {},
   "source": [
    "### Histogramas"
   ]
  },
  {
   "cell_type": "code",
   "execution_count": 36,
   "id": "0de5bffc",
   "metadata": {},
   "outputs": [
    {
     "data": {
      "application/vnd.microsoft.datawrangler.viewer.v0+json": {
       "columns": [
        {
         "name": "index",
         "rawType": "int64",
         "type": "integer"
        },
        {
         "name": "goles_local",
         "rawType": "int64",
         "type": "integer"
        }
       ],
       "ref": "b8f5e9b1-6924-48ff-af08-1b7485c7d9d9",
       "rows": [
        [
         "0",
         "2"
        ],
        [
         "1",
         "1"
        ],
        [
         "2",
         "1"
        ],
        [
         "3",
         "2"
        ],
        [
         "4",
         "5"
        ],
        [
         "5",
         "3"
        ],
        [
         "6",
         "4"
        ],
        [
         "7",
         "1"
        ],
        [
         "8",
         "1"
        ],
        [
         "9",
         "1"
        ],
        [
         "10",
         "3"
        ],
        [
         "11",
         "4"
        ],
        [
         "12",
         "1"
        ],
        [
         "13",
         "1"
        ],
        [
         "14",
         "2"
        ],
        [
         "15",
         "1"
        ],
        [
         "16",
         "2"
        ],
        [
         "17",
         "5"
        ],
        [
         "18",
         "4"
        ],
        [
         "19",
         "4"
        ],
        [
         "20",
         "0"
        ],
        [
         "21",
         "3"
        ],
        [
         "22",
         "0"
        ],
        [
         "23",
         "1"
        ],
        [
         "24",
         "2"
        ],
        [
         "25",
         "4"
        ],
        [
         "26",
         "3"
        ],
        [
         "27",
         "4"
        ],
        [
         "28",
         "0"
        ],
        [
         "29",
         "2"
        ],
        [
         "30",
         "3"
        ],
        [
         "31",
         "0"
        ],
        [
         "32",
         "5"
        ],
        [
         "33",
         "4"
        ],
        [
         "34",
         "0"
        ],
        [
         "35",
         "1"
        ],
        [
         "36",
         "5"
        ],
        [
         "37",
         "2"
        ],
        [
         "38",
         "1"
        ],
        [
         "39",
         "3"
        ],
        [
         "40",
         "3"
        ],
        [
         "41",
         "0"
        ],
        [
         "42",
         "2"
        ],
        [
         "43",
         "3"
        ],
        [
         "44",
         "5"
        ],
        [
         "45",
         "5"
        ],
        [
         "46",
         "3"
        ],
        [
         "47",
         "2"
        ],
        [
         "48",
         "3"
        ],
        [
         "49",
         "2"
        ]
       ],
       "shape": {
        "columns": 1,
        "rows": 100
       }
      },
      "text/plain": [
       "0     2\n",
       "1     1\n",
       "2     1\n",
       "3     2\n",
       "4     5\n",
       "     ..\n",
       "95    4\n",
       "96    4\n",
       "97    5\n",
       "98    2\n",
       "99    2\n",
       "Name: goles_local, Length: 100, dtype: int64"
      ]
     },
     "execution_count": 36,
     "metadata": {},
     "output_type": "execute_result"
    }
   ],
   "source": [
    "df_partidos['goles_local']"
   ]
  },
  {
   "cell_type": "code",
   "execution_count": 44,
   "id": "99ad8f63",
   "metadata": {},
   "outputs": [
    {
     "data": {
      "image/png": "[encoded data removed]",
      "text/plain": [
       "<Figure size 1200x400 with 2 Axes>"
      ]
     },
     "metadata": {},
     "output_type": "display_data"
    }
   ],
   "source": [
    "fig, ax = plt.subplots(nrows=1, ncols=2, figsize=(12, 4))\n",
    "\n",
    "sns.histplot(x=df_partidos['goles_local'], kde=True, ax=ax[0], bins=10, color='green')\n",
    "ax[0].set_title('Distribucion de goles equipo locales')\n",
    "\n",
    "sns.histplot(x=df_partidos['goles_visitante'], kde=True, ax=ax[1], bins=10, color='orange')\n",
    "ax[1].set_title('Distribucion de goles equipo visitantes')\n",
    "\n",
    "plt.tight_layout()\n",
    "plt.show()"
   ]
  },
  {
   "cell_type": "markdown",
   "id": "67a9d29b",
   "metadata": {},
   "source": [
    "### boxplot"
   ]
  },
  {
   "cell_type": "code",
   "execution_count": 45,
   "id": "9ce66c5a",
   "metadata": {},
   "outputs": [
    {
     "data": {
      "image/png": "[encoded data removed]",
      "text/plain": [
       "<Figure size 640x480 with 1 Axes>"
      ]
     },
     "metadata": {},
     "output_type": "display_data"
    }
   ],
   "source": [
    "sns.boxplot(x=df_partidos['goles_local'], color='green')\n",
    "plt.title('Boxplot de goles equipo local')\n",
    "plt.show()"
   ]
  },
  {
   "cell_type": "code",
   "execution_count": 46,
   "id": "6c432640",
   "metadata": {},
   "outputs": [
    {
     "data": {
      "image/png": "[encoded data removed]",
      "text/plain": [
       "<Figure size 640x480 with 1 Axes>"
      ]
     },
     "metadata": {},
     "output_type": "display_data"
    }
   ],
   "source": [
    "sns.boxplot(x=df_partidos['goles_visitante'], color='orange')\n",
    "plt.title('Boxplot de goles equipo visitante')\n",
    "plt.show()"
   ]
  },
  {
   "cell_type": "markdown",
   "id": "46fd47cf",
   "metadata": {},
   "source": [
    "### scatterplot"
   ]
  },
  {
   "cell_type": "code",
   "execution_count": 49,
   "id": "00989cae",
   "metadata": {},
   "outputs": [
    {
     "data": {
      "image/png": "[encoded data removed]",
      "text/plain": [
       "<Figure size 640x480 with 1 Axes>"
      ]
     },
     "metadata": {},
     "output_type": "display_data"
    }
   ],
   "source": [
    "sns.scatterplot(x='posesion_local (%)',\n",
    "                y='goles_visitante',\n",
    "                data=df_partidos)\n",
    "\n",
    "plt.title('Goles visitantes vs Posesión local')\n",
    "\n",
    "plt.show()"
   ]
  },
  {
   "cell_type": "code",
   "execution_count": 50,
   "id": "a44b8873",
   "metadata": {},
   "outputs": [
    {
     "data": {
      "image/png": "[encoded data removed]",
      "text/plain": [
       "<Figure size 1000x600 with 2 Axes>"
      ]
     },
     "metadata": {},
     "output_type": "display_data"
    }
   ],
   "source": [
    "# Mapa de calor para correlación entre variables clave\n",
    "plt.figure(figsize=(10,6))\n",
    "sns.heatmap(df_partidos[['goles_local', 'goles_visitante', 'posesion_local (%)', \n",
    "                         'posesion_visitante (%)', 'tiros_arco_local', \n",
    "                         'tiros_arco_visitante']].corr(), annot=True, cmap='coolwarm')\n",
    "plt.title('Mapa de calor - correlación entre variables')\n",
    "plt.show()"
   ]
  },
  {
   "cell_type": "code",
   "execution_count": null,
   "id": "2119f955",
   "metadata": {},
   "outputs": [],
   "source": []
  }
 ],
 "metadata": {
  "kernelspec": {
   "display_name": "ml-py3.12",
   "language": "python",
   "name": "python3"
  },
  "language_info": {
   "codemirror_mode": {
    "name": "ipython",
    "version": 3
   },
   "file_extension": ".py",
   "mimetype": "text/x-python",
   "name": "python",
   "nbconvert_exporter": "python",
   "pygments_lexer": "ipython3",
   "version": "3.12.11"
  }
 },
 "nbformat": 4,
 "nbformat_minor": 5
}
