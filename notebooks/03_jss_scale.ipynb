{
 "cells": [
  {
   "cell_type": "code",
   "execution_count": 1,
   "id": "93885559",
   "metadata": {},
   "outputs": [],
   "source": [
    "import pandas as pd\n",
    "import matplotlib.pyplot as plt\n",
    "import seaborn as sns\n",
    "from pathlib import Path\n",
    "from utils.paths import DATA_RAW_DIR\n",
    "\n",
    "from sklearn.preprocessing import MinMaxScaler, StandardScaler"
   ]
  },
  {
   "cell_type": "code",
   "execution_count": 2,
   "id": "fab8d9e9",
   "metadata": {},
   "outputs": [
    {
     "name": "stdout",
     "output_type": "stream",
     "text": [
      "Path: /Users/jssdev/Dev/Learning/Platzi/platzi-machine-learning/data/raw/partidos_cebollitas.csv\n",
      "Does path exist? True\n"
     ]
    }
   ],
   "source": [
    "path_partidos = str(DATA_RAW_DIR / 'partidos_cebollitas.csv')\n",
    "\n",
    "print('Path:', path_partidos)\n",
    "print('Does path exist?', Path(path_partidos).exists())"
   ]
  },
  {
   "cell_type": "code",
   "execution_count": 3,
   "id": "260f958b",
   "metadata": {},
   "outputs": [
    {
     "data": {
      "application/vnd.microsoft.datawrangler.viewer.v0+json": {
       "columns": [
        {
         "name": "index",
         "rawType": "int64",
         "type": "integer"
        },
        {
         "name": "fecha_partido",
         "rawType": "object",
         "type": "string"
        },
        {
         "name": "equipo_local",
         "rawType": "object",
         "type": "string"
        },
        {
         "name": "equipo_visitante",
         "rawType": "object",
         "type": "string"
        },
        {
         "name": "goles_local",
         "rawType": "int64",
         "type": "integer"
        },
        {
         "name": "goles_visitante",
         "rawType": "int64",
         "type": "integer"
        },
        {
         "name": "posesion_local (%)",
         "rawType": "int64",
         "type": "integer"
        },
        {
         "name": "posesion_visitante (%)",
         "rawType": "int64",
         "type": "integer"
        },
        {
         "name": "tiros_arco_local",
         "rawType": "int64",
         "type": "integer"
        },
        {
         "name": "tiros_arco_visitante",
         "rawType": "int64",
         "type": "integer"
        },
        {
         "name": "estadio",
         "rawType": "object",
         "type": "string"
        }
       ],
       "ref": "a32d68b7-7094-4f4b-821c-207f5ea7f478",
       "rows": [
        [
         "0",
         "2023-01-01",
         "Atlético Python",
         "Cebollitas FC",
         "2",
         "0",
         "54",
         "46",
         "12",
         "6",
         "Python Arena"
        ],
        [
         "1",
         "2023-01-08",
         "NumPy City",
         "Atlético Python",
         "1",
         "5",
         "60",
         "40",
         "12",
         "3",
         "Estadio ML"
        ],
        [
         "2",
         "2023-01-15",
         "Cebollitas FC",
         "Data United",
         "1",
         "0",
         "55",
         "45",
         "10",
         "7",
         "Python Arena"
        ],
        [
         "3",
         "2023-01-22",
         "Atlético Python",
         "Data United",
         "2",
         "3",
         "57",
         "43",
         "3",
         "3",
         "Campo Pandas"
        ],
        [
         "4",
         "2023-01-29",
         "Data United",
         "Cebollitas FC",
         "5",
         "3",
         "52",
         "48",
         "7",
         "12",
         "Estadio ML"
        ]
       ],
       "shape": {
        "columns": 10,
        "rows": 5
       }
      },
      "text/html": [
       "<div>\n",
       "<style scoped>\n",
       "    .dataframe tbody tr th:only-of-type {\n",
       "        vertical-align: middle;\n",
       "    }\n",
       "\n",
       "    .dataframe tbody tr th {\n",
       "        vertical-align: top;\n",
       "    }\n",
       "\n",
       "    .dataframe thead th {\n",
       "        text-align: right;\n",
       "    }\n",
       "</style>\n",
       "<table border=\"1\" class=\"dataframe\">\n",
       "  <thead>\n",
       "    <tr style=\"text-align: right;\">\n",
       "      <th></th>\n",
       "      <th>fecha_partido</th>\n",
       "      <th>equipo_local</th>\n",
       "      <th>equipo_visitante</th>\n",
       "      <th>goles_local</th>\n",
       "      <th>goles_visitante</th>\n",
       "      <th>posesion_local (%)</th>\n",
       "      <th>posesion_visitante (%)</th>\n",
       "      <th>tiros_arco_local</th>\n",
       "      <th>tiros_arco_visitante</th>\n",
       "      <th>estadio</th>\n",
       "    </tr>\n",
       "  </thead>\n",
       "  <tbody>\n",
       "    <tr>\n",
       "      <th>0</th>\n",
       "      <td>2023-01-01</td>\n",
       "      <td>Atlético Python</td>\n",
       "      <td>Cebollitas FC</td>\n",
       "      <td>2</td>\n",
       "      <td>0</td>\n",
       "      <td>54</td>\n",
       "      <td>46</td>\n",
       "      <td>12</td>\n",
       "      <td>6</td>\n",
       "      <td>Python Arena</td>\n",
       "    </tr>\n",
       "    <tr>\n",
       "      <th>1</th>\n",
       "      <td>2023-01-08</td>\n",
       "      <td>NumPy City</td>\n",
       "      <td>Atlético Python</td>\n",
       "      <td>1</td>\n",
       "      <td>5</td>\n",
       "      <td>60</td>\n",
       "      <td>40</td>\n",
       "      <td>12</td>\n",
       "      <td>3</td>\n",
       "      <td>Estadio ML</td>\n",
       "    </tr>\n",
       "    <tr>\n",
       "      <th>2</th>\n",
       "      <td>2023-01-15</td>\n",
       "      <td>Cebollitas FC</td>\n",
       "      <td>Data United</td>\n",
       "      <td>1</td>\n",
       "      <td>0</td>\n",
       "      <td>55</td>\n",
       "      <td>45</td>\n",
       "      <td>10</td>\n",
       "      <td>7</td>\n",
       "      <td>Python Arena</td>\n",
       "    </tr>\n",
       "    <tr>\n",
       "      <th>3</th>\n",
       "      <td>2023-01-22</td>\n",
       "      <td>Atlético Python</td>\n",
       "      <td>Data United</td>\n",
       "      <td>2</td>\n",
       "      <td>3</td>\n",
       "      <td>57</td>\n",
       "      <td>43</td>\n",
       "      <td>3</td>\n",
       "      <td>3</td>\n",
       "      <td>Campo Pandas</td>\n",
       "    </tr>\n",
       "    <tr>\n",
       "      <th>4</th>\n",
       "      <td>2023-01-29</td>\n",
       "      <td>Data United</td>\n",
       "      <td>Cebollitas FC</td>\n",
       "      <td>5</td>\n",
       "      <td>3</td>\n",
       "      <td>52</td>\n",
       "      <td>48</td>\n",
       "      <td>7</td>\n",
       "      <td>12</td>\n",
       "      <td>Estadio ML</td>\n",
       "    </tr>\n",
       "  </tbody>\n",
       "</table>\n",
       "</div>"
      ],
      "text/plain": [
       "  fecha_partido     equipo_local equipo_visitante  goles_local  \\\n",
       "0    2023-01-01  Atlético Python    Cebollitas FC            2   \n",
       "1    2023-01-08       NumPy City  Atlético Python            1   \n",
       "2    2023-01-15    Cebollitas FC      Data United            1   \n",
       "3    2023-01-22  Atlético Python      Data United            2   \n",
       "4    2023-01-29      Data United    Cebollitas FC            5   \n",
       "\n",
       "   goles_visitante  posesion_local (%)  posesion_visitante (%)  \\\n",
       "0                0                  54                      46   \n",
       "1                5                  60                      40   \n",
       "2                0                  55                      45   \n",
       "3                3                  57                      43   \n",
       "4                3                  52                      48   \n",
       "\n",
       "   tiros_arco_local  tiros_arco_visitante       estadio  \n",
       "0                12                     6  Python Arena  \n",
       "1                12                     3    Estadio ML  \n",
       "2                10                     7  Python Arena  \n",
       "3                 3                     3  Campo Pandas  \n",
       "4                 7                    12    Estadio ML  "
      ]
     },
     "execution_count": 3,
     "metadata": {},
     "output_type": "execute_result"
    }
   ],
   "source": [
    "df_partidos = pd.read_csv(path_partidos, sep=',', encoding='utf-8')\n",
    "df_partidos.head()"
   ]
  },
  {
   "cell_type": "code",
   "execution_count": 4,
   "id": "e487f9e1",
   "metadata": {},
   "outputs": [
    {
     "data": {
      "application/vnd.microsoft.datawrangler.viewer.v0+json": {
       "columns": [
        {
         "name": "index",
         "rawType": "int64",
         "type": "integer"
        },
        {
         "name": "tiros_arco_local",
         "rawType": "int64",
         "type": "integer"
        }
       ],
       "ref": "eeda4ee4-0788-4eec-b00b-277cd2c50bc3",
       "rows": [
        [
         "0",
         "12"
        ],
        [
         "1",
         "12"
        ],
        [
         "2",
         "10"
        ],
        [
         "3",
         "3"
        ],
        [
         "4",
         "7"
        ],
        [
         "5",
         "8"
        ],
        [
         "6",
         "4"
        ],
        [
         "7",
         "5"
        ],
        [
         "8",
         "9"
        ],
        [
         "9",
         "10"
        ],
        [
         "10",
         "5"
        ],
        [
         "11",
         "4"
        ],
        [
         "12",
         "10"
        ],
        [
         "13",
         "6"
        ],
        [
         "14",
         "6"
        ],
        [
         "15",
         "11"
        ],
        [
         "16",
         "11"
        ],
        [
         "17",
         "10"
        ],
        [
         "18",
         "6"
        ],
        [
         "19",
         "10"
        ],
        [
         "20",
         "11"
        ],
        [
         "21",
         "7"
        ],
        [
         "22",
         "11"
        ],
        [
         "23",
         "3"
        ],
        [
         "24",
         "4"
        ],
        [
         "25",
         "8"
        ],
        [
         "26",
         "4"
        ],
        [
         "27",
         "8"
        ],
        [
         "28",
         "8"
        ],
        [
         "29",
         "10"
        ],
        [
         "30",
         "6"
        ],
        [
         "31",
         "10"
        ],
        [
         "32",
         "11"
        ],
        [
         "33",
         "11"
        ],
        [
         "34",
         "6"
        ],
        [
         "35",
         "11"
        ],
        [
         "36",
         "4"
        ],
        [
         "37",
         "11"
        ],
        [
         "38",
         "10"
        ],
        [
         "39",
         "7"
        ],
        [
         "40",
         "7"
        ],
        [
         "41",
         "9"
        ],
        [
         "42",
         "4"
        ],
        [
         "43",
         "9"
        ],
        [
         "44",
         "5"
        ],
        [
         "45",
         "7"
        ],
        [
         "46",
         "11"
        ],
        [
         "47",
         "10"
        ],
        [
         "48",
         "3"
        ],
        [
         "49",
         "4"
        ]
       ],
       "shape": {
        "columns": 1,
        "rows": 100
       }
      },
      "text/html": [
       "<div>\n",
       "<style scoped>\n",
       "    .dataframe tbody tr th:only-of-type {\n",
       "        vertical-align: middle;\n",
       "    }\n",
       "\n",
       "    .dataframe tbody tr th {\n",
       "        vertical-align: top;\n",
       "    }\n",
       "\n",
       "    .dataframe thead th {\n",
       "        text-align: right;\n",
       "    }\n",
       "</style>\n",
       "<table border=\"1\" class=\"dataframe\">\n",
       "  <thead>\n",
       "    <tr style=\"text-align: right;\">\n",
       "      <th></th>\n",
       "      <th>tiros_arco_local</th>\n",
       "    </tr>\n",
       "  </thead>\n",
       "  <tbody>\n",
       "    <tr>\n",
       "      <th>0</th>\n",
       "      <td>12</td>\n",
       "    </tr>\n",
       "    <tr>\n",
       "      <th>1</th>\n",
       "      <td>12</td>\n",
       "    </tr>\n",
       "    <tr>\n",
       "      <th>2</th>\n",
       "      <td>10</td>\n",
       "    </tr>\n",
       "    <tr>\n",
       "      <th>3</th>\n",
       "      <td>3</td>\n",
       "    </tr>\n",
       "    <tr>\n",
       "      <th>4</th>\n",
       "      <td>7</td>\n",
       "    </tr>\n",
       "    <tr>\n",
       "      <th>...</th>\n",
       "      <td>...</td>\n",
       "    </tr>\n",
       "    <tr>\n",
       "      <th>95</th>\n",
       "      <td>11</td>\n",
       "    </tr>\n",
       "    <tr>\n",
       "      <th>96</th>\n",
       "      <td>4</td>\n",
       "    </tr>\n",
       "    <tr>\n",
       "      <th>97</th>\n",
       "      <td>4</td>\n",
       "    </tr>\n",
       "    <tr>\n",
       "      <th>98</th>\n",
       "      <td>9</td>\n",
       "    </tr>\n",
       "    <tr>\n",
       "      <th>99</th>\n",
       "      <td>6</td>\n",
       "    </tr>\n",
       "  </tbody>\n",
       "</table>\n",
       "<p>100 rows × 1 columns</p>\n",
       "</div>"
      ],
      "text/plain": [
       "    tiros_arco_local\n",
       "0                 12\n",
       "1                 12\n",
       "2                 10\n",
       "3                  3\n",
       "4                  7\n",
       "..               ...\n",
       "95                11\n",
       "96                 4\n",
       "97                 4\n",
       "98                 9\n",
       "99                 6\n",
       "\n",
       "[100 rows x 1 columns]"
      ]
     },
     "execution_count": 4,
     "metadata": {},
     "output_type": "execute_result"
    }
   ],
   "source": [
    "df_partidos[['tiros_arco_local']]"
   ]
  },
  {
   "cell_type": "markdown",
   "id": "3974a21e",
   "metadata": {},
   "source": [
    "## ¿Cuándo usar `MinMaxScaler`?\n",
    "\n",
    "- **Rango fijo [0,1]**: ideal para redes neuronales, k-NN, SVM…\n",
    "- **No asume normalidad** de los datos.\n",
    "- **Conservar forma** de la distribución.\n",
    "\n",
    "## Alternativas\n",
    "\n",
    "- **`StandardScaler`**: centra en 0, σ=1 (datos ~gausianos).  \n",
    "- **`RobustScaler`**: usa percentiles, resistente a outliers.  \n",
    "- **Árboles (RF, XGBoost…)**: no requieren escalado.  "
   ]
  },
  {
   "cell_type": "code",
   "execution_count": 5,
   "id": "75329ba9",
   "metadata": {},
   "outputs": [],
   "source": [
    "scarler_normal = MinMaxScaler()\n"
   ]
  },
  {
   "cell_type": "code",
   "execution_count": 6,
   "id": "0c909184",
   "metadata": {},
   "outputs": [],
   "source": [
    "df_partidos['tiros_arco_local_normalizado'] = scarler_normal.fit_transform(df_partidos[['tiros_arco_local']])"
   ]
  },
  {
   "cell_type": "code",
   "execution_count": 7,
   "id": "55aa6e91",
   "metadata": {},
   "outputs": [
    {
     "data": {
      "application/vnd.microsoft.datawrangler.viewer.v0+json": {
       "columns": [
        {
         "name": "index",
         "rawType": "int64",
         "type": "integer"
        },
        {
         "name": "tiros_arco_visitante",
         "rawType": "int64",
         "type": "integer"
        }
       ],
       "ref": "1c0d89cf-0d3e-43a4-9a22-95865cdf9feb",
       "rows": [
        [
         "0",
         "6"
        ],
        [
         "1",
         "3"
        ],
        [
         "2",
         "7"
        ],
        [
         "3",
         "3"
        ],
        [
         "4",
         "12"
        ],
        [
         "5",
         "11"
        ],
        [
         "6",
         "8"
        ],
        [
         "7",
         "5"
        ],
        [
         "8",
         "9"
        ],
        [
         "9",
         "7"
        ],
        [
         "10",
         "8"
        ],
        [
         "11",
         "12"
        ],
        [
         "12",
         "12"
        ],
        [
         "13",
         "6"
        ],
        [
         "14",
         "6"
        ],
        [
         "15",
         "7"
        ],
        [
         "16",
         "8"
        ],
        [
         "17",
         "11"
        ],
        [
         "18",
         "12"
        ],
        [
         "19",
         "11"
        ],
        [
         "20",
         "5"
        ],
        [
         "21",
         "4"
        ],
        [
         "22",
         "9"
        ],
        [
         "23",
         "8"
        ],
        [
         "24",
         "5"
        ],
        [
         "25",
         "10"
        ],
        [
         "26",
         "3"
        ],
        [
         "27",
         "12"
        ],
        [
         "28",
         "4"
        ],
        [
         "29",
         "10"
        ],
        [
         "30",
         "3"
        ],
        [
         "31",
         "3"
        ],
        [
         "32",
         "3"
        ],
        [
         "33",
         "8"
        ],
        [
         "34",
         "12"
        ],
        [
         "35",
         "4"
        ],
        [
         "36",
         "8"
        ],
        [
         "37",
         "9"
        ],
        [
         "38",
         "9"
        ],
        [
         "39",
         "7"
        ],
        [
         "40",
         "7"
        ],
        [
         "41",
         "11"
        ],
        [
         "42",
         "6"
        ],
        [
         "43",
         "4"
        ],
        [
         "44",
         "10"
        ],
        [
         "45",
         "6"
        ],
        [
         "46",
         "10"
        ],
        [
         "47",
         "12"
        ],
        [
         "48",
         "6"
        ],
        [
         "49",
         "12"
        ]
       ],
       "shape": {
        "columns": 1,
        "rows": 100
       }
      },
      "text/html": [
       "<div>\n",
       "<style scoped>\n",
       "    .dataframe tbody tr th:only-of-type {\n",
       "        vertical-align: middle;\n",
       "    }\n",
       "\n",
       "    .dataframe tbody tr th {\n",
       "        vertical-align: top;\n",
       "    }\n",
       "\n",
       "    .dataframe thead th {\n",
       "        text-align: right;\n",
       "    }\n",
       "</style>\n",
       "<table border=\"1\" class=\"dataframe\">\n",
       "  <thead>\n",
       "    <tr style=\"text-align: right;\">\n",
       "      <th></th>\n",
       "      <th>tiros_arco_visitante</th>\n",
       "    </tr>\n",
       "  </thead>\n",
       "  <tbody>\n",
       "    <tr>\n",
       "      <th>0</th>\n",
       "      <td>6</td>\n",
       "    </tr>\n",
       "    <tr>\n",
       "      <th>1</th>\n",
       "      <td>3</td>\n",
       "    </tr>\n",
       "    <tr>\n",
       "      <th>2</th>\n",
       "      <td>7</td>\n",
       "    </tr>\n",
       "    <tr>\n",
       "      <th>3</th>\n",
       "      <td>3</td>\n",
       "    </tr>\n",
       "    <tr>\n",
       "      <th>4</th>\n",
       "      <td>12</td>\n",
       "    </tr>\n",
       "    <tr>\n",
       "      <th>...</th>\n",
       "      <td>...</td>\n",
       "    </tr>\n",
       "    <tr>\n",
       "      <th>95</th>\n",
       "      <td>5</td>\n",
       "    </tr>\n",
       "    <tr>\n",
       "      <th>96</th>\n",
       "      <td>6</td>\n",
       "    </tr>\n",
       "    <tr>\n",
       "      <th>97</th>\n",
       "      <td>9</td>\n",
       "    </tr>\n",
       "    <tr>\n",
       "      <th>98</th>\n",
       "      <td>9</td>\n",
       "    </tr>\n",
       "    <tr>\n",
       "      <th>99</th>\n",
       "      <td>5</td>\n",
       "    </tr>\n",
       "  </tbody>\n",
       "</table>\n",
       "<p>100 rows × 1 columns</p>\n",
       "</div>"
      ],
      "text/plain": [
       "    tiros_arco_visitante\n",
       "0                      6\n",
       "1                      3\n",
       "2                      7\n",
       "3                      3\n",
       "4                     12\n",
       "..                   ...\n",
       "95                     5\n",
       "96                     6\n",
       "97                     9\n",
       "98                     9\n",
       "99                     5\n",
       "\n",
       "[100 rows x 1 columns]"
      ]
     },
     "execution_count": 7,
     "metadata": {},
     "output_type": "execute_result"
    }
   ],
   "source": [
    "df_partidos[['tiros_arco_visitante']]"
   ]
  },
  {
   "cell_type": "code",
   "execution_count": 8,
   "id": "ebdcc2c4",
   "metadata": {},
   "outputs": [],
   "source": [
    "df_partidos['tiros_arco_visitante_normalizado'] = scarler_normal.fit_transform(df_partidos[['tiros_arco_visitante']])"
   ]
  },
  {
   "cell_type": "code",
   "execution_count": 18,
   "id": "9c34c220",
   "metadata": {},
   "outputs": [
    {
     "name": "stdout",
     "output_type": "stream",
     "text": [
      "   tiros_arco_local  tiros_arco_local_normalizado\n",
      "0                12                      1.000000\n",
      "1                12                      1.000000\n",
      "2                10                      0.777778\n",
      "3                 3                      0.000000\n",
      "4                 7                      0.444444\n"
     ]
    }
   ],
   "source": [
    "print(df_partidos[['tiros_arco_local','tiros_arco_local_normalizado']].head())\n"
   ]
  },
  {
   "cell_type": "code",
   "execution_count": 19,
   "id": "64cb00b8",
   "metadata": {},
   "outputs": [
    {
     "name": "stdout",
     "output_type": "stream",
     "text": [
      "   tiros_arco_visitante  tiros_arco_visitante_normalizado\n",
      "0                     6                          0.333333\n",
      "1                     3                          0.000000\n",
      "2                     7                          0.444444\n",
      "3                     3                          0.000000\n",
      "4                    12                          1.000000\n"
     ]
    }
   ],
   "source": [
    "print(df_partidos[['tiros_arco_visitante','tiros_arco_visitante_normalizado']].head())"
   ]
  },
  {
   "cell_type": "markdown",
   "id": "65983f9c",
   "metadata": {},
   "source": [
    "## ¿Cuándo usar `StandardScaler`?\n",
    "\n",
    "- Variables con distribución **aprox. normal**.  \n",
    "- Modelos que se benefician de **media 0 y σ=1** (Regresión lineal, SVM, PCA).  \n",
    "- **Acelera** la convergencia de optimizadores basados en gradiente.\n",
    "\n",
    "## Alternativas\n",
    "\n",
    "- `MinMaxScaler`: rango [0,1], ideal en redes neuronales, k-NN.  \n",
    "- `RobustScaler`: usa percentiles, **resiste outliers**.  \n",
    "- Árboles (RF, XGBoost…): **no requieren** escalado.  "
   ]
  },
  {
   "cell_type": "code",
   "execution_count": 20,
   "id": "84cf49b6",
   "metadata": {},
   "outputs": [],
   "source": [
    "scaler_std = StandardScaler()"
   ]
  },
  {
   "cell_type": "code",
   "execution_count": 21,
   "id": "6c09a829",
   "metadata": {},
   "outputs": [],
   "source": [
    "df_partidos['posesion_local_std'] = scaler_std.fit_transform(df_partidos[['posesion_local (%)']])"
   ]
  },
  {
   "cell_type": "code",
   "execution_count": 22,
   "id": "259a1c97",
   "metadata": {},
   "outputs": [],
   "source": [
    "df_partidos['posesion_visitante_std'] = scaler_std.fit_transform(df_partidos[['posesion_visitante (%)']])"
   ]
  },
  {
   "cell_type": "code",
   "execution_count": 23,
   "id": "5da78b7b",
   "metadata": {},
   "outputs": [
    {
     "data": {
      "application/vnd.microsoft.datawrangler.viewer.v0+json": {
       "columns": [
        {
         "name": "index",
         "rawType": "int64",
         "type": "integer"
        },
        {
         "name": "posesion_local (%)",
         "rawType": "int64",
         "type": "integer"
        },
        {
         "name": "posesion_local_std",
         "rawType": "float64",
         "type": "float"
        }
       ],
       "ref": "70465e72-57d5-44f6-82cf-c7fdeaacec50",
       "rows": [
        [
         "0",
         "54",
         "0.6244148851892577"
        ],
        [
         "1",
         "60",
         "1.62347870149207"
        ],
        [
         "2",
         "55",
         "0.7909255212397264"
        ],
        [
         "3",
         "57",
         "1.1239467933406637"
        ],
        [
         "4",
         "52",
         "0.29139361308832024"
        ]
       ],
       "shape": {
        "columns": 2,
        "rows": 5
       }
      },
      "text/html": [
       "<div>\n",
       "<style scoped>\n",
       "    .dataframe tbody tr th:only-of-type {\n",
       "        vertical-align: middle;\n",
       "    }\n",
       "\n",
       "    .dataframe tbody tr th {\n",
       "        vertical-align: top;\n",
       "    }\n",
       "\n",
       "    .dataframe thead th {\n",
       "        text-align: right;\n",
       "    }\n",
       "</style>\n",
       "<table border=\"1\" class=\"dataframe\">\n",
       "  <thead>\n",
       "    <tr style=\"text-align: right;\">\n",
       "      <th></th>\n",
       "      <th>posesion_local (%)</th>\n",
       "      <th>posesion_local_std</th>\n",
       "    </tr>\n",
       "  </thead>\n",
       "  <tbody>\n",
       "    <tr>\n",
       "      <th>0</th>\n",
       "      <td>54</td>\n",
       "      <td>0.624415</td>\n",
       "    </tr>\n",
       "    <tr>\n",
       "      <th>1</th>\n",
       "      <td>60</td>\n",
       "      <td>1.623479</td>\n",
       "    </tr>\n",
       "    <tr>\n",
       "      <th>2</th>\n",
       "      <td>55</td>\n",
       "      <td>0.790926</td>\n",
       "    </tr>\n",
       "    <tr>\n",
       "      <th>3</th>\n",
       "      <td>57</td>\n",
       "      <td>1.123947</td>\n",
       "    </tr>\n",
       "    <tr>\n",
       "      <th>4</th>\n",
       "      <td>52</td>\n",
       "      <td>0.291394</td>\n",
       "    </tr>\n",
       "  </tbody>\n",
       "</table>\n",
       "</div>"
      ],
      "text/plain": [
       "   posesion_local (%)  posesion_local_std\n",
       "0                  54            0.624415\n",
       "1                  60            1.623479\n",
       "2                  55            0.790926\n",
       "3                  57            1.123947\n",
       "4                  52            0.291394"
      ]
     },
     "execution_count": 23,
     "metadata": {},
     "output_type": "execute_result"
    }
   ],
   "source": [
    "df_partidos[['posesion_local (%)','posesion_local_std']].head()"
   ]
  },
  {
   "cell_type": "code",
   "execution_count": 24,
   "id": "7796e0d5",
   "metadata": {},
   "outputs": [
    {
     "data": {
      "application/vnd.microsoft.datawrangler.viewer.v0+json": {
       "columns": [
        {
         "name": "index",
         "rawType": "int64",
         "type": "integer"
        },
        {
         "name": "posesion_visitante (%)",
         "rawType": "int64",
         "type": "integer"
        },
        {
         "name": "posesion_visitante_std",
         "rawType": "float64",
         "type": "float"
        }
       ],
       "ref": "3438725d-623e-4f69-bf0f-9547f57b0334",
       "rows": [
        [
         "0",
         "46",
         "-0.6244148851892577"
        ],
        [
         "1",
         "40",
         "-1.62347870149207"
        ],
        [
         "2",
         "45",
         "-0.7909255212397264"
        ],
        [
         "3",
         "43",
         "-1.1239467933406637"
        ],
        [
         "4",
         "48",
         "-0.29139361308832024"
        ]
       ],
       "shape": {
        "columns": 2,
        "rows": 5
       }
      },
      "text/html": [
       "<div>\n",
       "<style scoped>\n",
       "    .dataframe tbody tr th:only-of-type {\n",
       "        vertical-align: middle;\n",
       "    }\n",
       "\n",
       "    .dataframe tbody tr th {\n",
       "        vertical-align: top;\n",
       "    }\n",
       "\n",
       "    .dataframe thead th {\n",
       "        text-align: right;\n",
       "    }\n",
       "</style>\n",
       "<table border=\"1\" class=\"dataframe\">\n",
       "  <thead>\n",
       "    <tr style=\"text-align: right;\">\n",
       "      <th></th>\n",
       "      <th>posesion_visitante (%)</th>\n",
       "      <th>posesion_visitante_std</th>\n",
       "    </tr>\n",
       "  </thead>\n",
       "  <tbody>\n",
       "    <tr>\n",
       "      <th>0</th>\n",
       "      <td>46</td>\n",
       "      <td>-0.624415</td>\n",
       "    </tr>\n",
       "    <tr>\n",
       "      <th>1</th>\n",
       "      <td>40</td>\n",
       "      <td>-1.623479</td>\n",
       "    </tr>\n",
       "    <tr>\n",
       "      <th>2</th>\n",
       "      <td>45</td>\n",
       "      <td>-0.790926</td>\n",
       "    </tr>\n",
       "    <tr>\n",
       "      <th>3</th>\n",
       "      <td>43</td>\n",
       "      <td>-1.123947</td>\n",
       "    </tr>\n",
       "    <tr>\n",
       "      <th>4</th>\n",
       "      <td>48</td>\n",
       "      <td>-0.291394</td>\n",
       "    </tr>\n",
       "  </tbody>\n",
       "</table>\n",
       "</div>"
      ],
      "text/plain": [
       "   posesion_visitante (%)  posesion_visitante_std\n",
       "0                      46               -0.624415\n",
       "1                      40               -1.623479\n",
       "2                      45               -0.790926\n",
       "3                      43               -1.123947\n",
       "4                      48               -0.291394"
      ]
     },
     "execution_count": 24,
     "metadata": {},
     "output_type": "execute_result"
    }
   ],
   "source": [
    "df_partidos[['posesion_visitante (%)','posesion_visitante_std']].head()"
   ]
  },
  {
   "cell_type": "markdown",
   "id": "f130ae07",
   "metadata": {},
   "source": [
    "Graficar"
   ]
  },
  {
   "cell_type": "code",
   "execution_count": 27,
   "id": "3076a7f4",
   "metadata": {},
   "outputs": [
    {
     "data": {
      "image/png": "[encoded data removed]",
      "text/plain": [
       "<Figure size 1200x400 with 2 Axes>"
      ]
     },
     "metadata": {},
     "output_type": "display_data"
    }
   ],
   "source": [
    "fig, ax = plt.subplots(1, 2, figsize=(12, 4))\n",
    "\n",
    "# Visualizar tiros al arco (Normalización)\n",
    "sns.histplot(x=df_partidos['tiros_arco_local_normalizado'], bins=10, ax=ax[0], color='green')\n",
    "ax[0].set_title(\"Tiros al arco local (Normalizado)\")\n",
    "\n",
    "# Visualizar posesión local (Estandarización)\n",
    "sns.histplot(x=df_partidos['posesion_local_std'], bins=10, ax=ax[1], color='orange')\n",
    "ax[1].set_title(\"Posesión local (Estandarizado)\")\n",
    "\n",
    "plt.show()"
   ]
  },
  {
   "cell_type": "code",
   "execution_count": null,
   "id": "67100d99",
   "metadata": {},
   "outputs": [],
   "source": []
  }
 ],
 "metadata": {
  "kernelspec": {
   "display_name": "ml-py3.12",
   "language": "python",
   "name": "python3"
  },
  "language_info": {
   "codemirror_mode": {
    "name": "ipython",
    "version": 3
   },
   "file_extension": ".py",
   "mimetype": "text/x-python",
   "name": "python",
   "nbconvert_exporter": "python",
   "pygments_lexer": "ipython3",
   "version": "3.12.11"
  }
 },
 "nbformat": 4,
 "nbformat_minor": 5
}
